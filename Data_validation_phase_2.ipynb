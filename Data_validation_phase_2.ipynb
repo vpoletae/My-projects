{
 "cells": [
  {
   "cell_type": "code",
   "execution_count": 1,
   "metadata": {},
   "outputs": [],
   "source": [
    "import pandas as pd\n",
    "import numpy as np\n",
    "import os\n",
    "import stringdist"
   ]
  },
  {
   "cell_type": "code",
   "execution_count": 2,
   "metadata": {},
   "outputs": [],
   "source": [
    "# PATH = 'C:\\\\Vadim\\\\Cisco\\\\Проекты\\\\Tax ID_v3\\\\SPARK_downloads'\n",
    "# files = os.listdir(PATH)\n",
    "# df = pd.DataFrame()\n",
    "# for file in files:\n",
    "#     df_part = pd.read_excel(os.path.join(PATH, file))\n",
    "#     df = pd.concat([df, df_part], ignore_index=True)\n",
    "# df.to_excel(os.path.join(PATH, 'result_downloads.xlsx'))"
   ]
  },
  {
   "cell_type": "code",
   "execution_count": 3,
   "metadata": {},
   "outputs": [],
   "source": [
    "class Garbage_finder():\n",
    "    def __init__(self, df, columns: list):\n",
    "        self.df = df\n",
    "        self.columns = columns\n",
    "        \n",
    "    def create_list_of_words(self):\n",
    "        '''\n",
    "        Takes all names in every cell of dataframe and creates\n",
    "        an extended list of words met. Doubles are also taken\n",
    "        into account\n",
    "        '''\n",
    "        total_list = []\n",
    "        for column in self.columns:\n",
    "            self.df['{}_Split'.format(column)] = self.df[column].str.split(' ')\n",
    "            word_list_of_lists = self.df['{}_Split'.format(column)].tolist()\n",
    "            word_list = word_list_of_lists[0]\n",
    "            for list_ in word_list_of_lists[1:]:\n",
    "                try:\n",
    "                    word_list.extend(list_)\n",
    "                except TypeError:\n",
    "                    pass\n",
    "            total_list.extend(word_list)\n",
    "            del self.df['{}_Split'.format(column)]\n",
    "        return self.df, total_list\n",
    "    \n",
    "    def create_bag_of_words(self, total_list, percentile=75):\n",
    "        '''\n",
    "        Counts frequency of every word in a list created on the previous\n",
    "        stage. So called Bag of Words. Amount of trash words as counted as\n",
    "        percentile of unique frequences. Defined as kwarg = 75\n",
    "        '''\n",
    "        from collections import Counter\n",
    "        bag_of_words = Counter(total_list)\n",
    "        bag_of_words_sorted = sorted(bag_of_words.items(),\\\n",
    "                                     key=lambda t: t[1], reverse=True)\n",
    "        values = list(sorted(bag_of_words.values(), reverse=True))\n",
    "        percentile = np.percentile(list(set(values)), percentile)            \n",
    "        return bag_of_words_sorted, percentile\n",
    "    \n",
    "    def create_trash_list(self, bag_of_words, percentile):\n",
    "        '''\n",
    "        Using list comprehension creates a list of trash words\n",
    "        '''\n",
    "        trash_list = [i[0].upper() for i in bag_of_words if i[1] > percentile]\n",
    "        return trash_list"
   ]
  },
  {
   "cell_type": "code",
   "execution_count": 4,
   "metadata": {},
   "outputs": [],
   "source": [
    "class Cleaner():\n",
    "    def __init__(self, df, columns: list, trash_list: list):\n",
    "        self.df = df\n",
    "        self.columns = columns\n",
    "        self.trash_list = trash_list\n",
    "        \n",
    "    def remove_special(self, word):\n",
    "        '''\n",
    "        removes special symbols from string value of name\n",
    "        '''\n",
    "        special_symbols = [\"'\", '\"', '“', '”', '«', \n",
    "                           '&', '?', '<', '>', ',', \n",
    "                           '.',]\n",
    "        word = str(word)\n",
    "        for i in special_symbols:\n",
    "            if i in word:\n",
    "                word = word.replace(i, '')\n",
    "        return word.strip()\n",
    "    \n",
    "    def exclude_trash(self, word):\n",
    "        '''\n",
    "        excludes from name words met in trash list\n",
    "        '''\n",
    "        clean_word = ' '.join([i for i in word.split(' ') if i.upper() not in self.trash_list])\n",
    "        return clean_word\n",
    "    \n",
    "    def prettify(self):\n",
    "        '''\n",
    "        prettifies initial dataframe\n",
    "        removes special symbols\n",
    "        removes trash\n",
    "        '''\n",
    "        for column in self.columns:\n",
    "            self.df['{}_Cleaned'.format(column)] = self.df[\n",
    "                column].apply(self.remove_special)\n",
    "            self.df['{}_Cleaned'.format(column)] = self.df.loc[\n",
    "                :, '{}_Cleaned'.format(column)].apply(self.exclude_trash)\n",
    "#         self.df.sort_values(by=['Cleaned'], ascending=True, inplace=True)\n",
    "#         df = df[df['Cleaned'] != '']\n",
    "#         self.df = self.df.reset_index()\n",
    "        return self.df\n",
    "    \n",
    "    def define_letter(self):\n",
    "        '''\n",
    "        defines first symbol of the name\n",
    "        for further classification for filtering purposes\n",
    "        '''\n",
    "        def letter_or_number(word):\n",
    "            NUMBERS = ['0','1','2','3','4','5','6','7','8','9']\n",
    "            try:\n",
    "                if word[0] in NUMBERS:\n",
    "                    return 'digit'\n",
    "                else:\n",
    "                    return word[0]\n",
    "            except IndexError:\n",
    "                pass\n",
    "        self.df['First_symbol'] = self.df['Cleaned'].apply(letter_or_number)\n",
    "        return self.df\n",
    "    \n",
    "    def define_clean_len_words(self):\n",
    "        '''\n",
    "        defines len of cleaned word\n",
    "        '''\n",
    "        self.df['Len cleaned'] = self.df['Cleaned'].apply(lambda x: len(x.split(' ')))\n",
    "        return df"
   ]
  },
  {
   "cell_type": "code",
   "execution_count": 5,
   "metadata": {},
   "outputs": [],
   "source": [
    "def damerau_levenstein(row, col_previous, col_shifted):\n",
    "    '''counts Damerau-Levenstein rank'''\n",
    "    previous_value = str(row[col_previous])\n",
    "    shifted_value = str(row[col_shifted])\n",
    "    damerau_levenstein = stringdist.levenshtein(previous_value, shifted_value)\n",
    "    return damerau_levenstein"
   ]
  },
  {
   "cell_type": "code",
   "execution_count": 6,
   "metadata": {},
   "outputs": [],
   "source": [
    "def check_entrance(row, col_previous, col_shifted):\n",
    "    '''checks whether shifted value in previous one'''\n",
    "    previous_value = str(row[col_previous])\n",
    "    shifted_value = str(row[col_shifted])\n",
    "    if shifted_value in previous_value:\n",
    "        return 'yes'\n",
    "    else:\n",
    "        return 'no'"
   ]
  },
  {
   "cell_type": "code",
   "execution_count": 83,
   "metadata": {},
   "outputs": [],
   "source": [
    "def abbreviate(x):\n",
    "    abbreviation = ''\n",
    "    try:\n",
    "        x_list = x.split(' ')\n",
    "        for i in x_list:\n",
    "            abbreviation += i[0]\n",
    "    except AttributeError:\n",
    "        abbreviation = x\n",
    "    return abbreviation"
   ]
  },
  {
   "cell_type": "code",
   "execution_count": 120,
   "metadata": {},
   "outputs": [],
   "source": [
    "def zhakkar_ratio(row, col_previous, col_shifted):\n",
    "    '''counts Zhakkar ratio'''\n",
    "    previous_value = str(row[col_previous]).strip().replace(' ','')\n",
    "    shifted_value = str(row[col_shifted]).strip().replace(' ','')\n",
    "    len_previous = len(previous_value)\n",
    "    len_shifted = len(shifted_value)\n",
    "    len_similar = int()\n",
    "    \n",
    "    from collections import Counter\n",
    "    dict_previous = Counter(previous_value)\n",
    "    dict_shifted = Counter(shifted_value)\n",
    "    for key in list(dict_previous.keys()):\n",
    "        if key in dict_shifted:\n",
    "            if dict_previous[key] <= dict_shifted[key]:\n",
    "                len_similar += dict_previous[key]\n",
    "            else:\n",
    "                len_similar += dict_shifted[key]\n",
    "        else:\n",
    "            pass\n",
    "    \n",
    "    zhakkar_ratio = (len_similar / (len_previous + len_shifted - len_similar)) * 100\n",
    "    \n",
    "    return int(zhakkar_ratio)"
   ]
  },
  {
   "cell_type": "code",
   "execution_count": 65,
   "metadata": {},
   "outputs": [],
   "source": [
    "PATH = 'C:\\Vadim\\Cisco\\Projects\\Tax ID_v3'\n",
    "file_name = 'to_validate.xlsx'"
   ]
  },
  {
   "cell_type": "code",
   "execution_count": 8,
   "metadata": {},
   "outputs": [],
   "source": [
    "df = pd.read_excel(os.path.join(PATH, file_name))"
   ]
  },
  {
   "cell_type": "code",
   "execution_count": 9,
   "metadata": {},
   "outputs": [],
   "source": [
    "df = df.rename(columns={'Eng name (SPARK)': 'Eng_Name_SPARK', \n",
    "                        'Short RU (SPARK)': 'Short_RU_SPARK', \n",
    "                        'Full RU (SPARK)': 'Full_RU_SPARK'})"
   ]
  },
  {
   "cell_type": "markdown",
   "metadata": {},
   "source": [
    "### Validation"
   ]
  },
  {
   "cell_type": "code",
   "execution_count": 10,
   "metadata": {},
   "outputs": [],
   "source": [
    "garbage = Garbage_finder(df, ['PARTY_NAME','Eng_Name_SPARK'])\n",
    "df, word_list = garbage.create_list_of_words()"
   ]
  },
  {
   "cell_type": "code",
   "execution_count": 11,
   "metadata": {},
   "outputs": [
    {
     "name": "stdout",
     "output_type": "stream",
     "text": [
      "['OOO', 'AO', 'ZAO', 'LLC', 'COMPANY', 'OAO', 'LTD', 'PAO', 'OF', 'BANK', 'JSC']\n"
     ]
    }
   ],
   "source": [
    "bag_of_words, percentile = garbage.create_bag_of_words(word_list, 97)\n",
    "trash_list = garbage.create_trash_list(bag_of_words, percentile)\n",
    "print(trash_list)"
   ]
  },
  {
   "cell_type": "code",
   "execution_count": 12,
   "metadata": {},
   "outputs": [],
   "source": [
    "garbage_ru = Garbage_finder(df, ['Short_RU_SPARK','Full_RU_SPARK'])\n",
    "df, word_list = garbage_ru.create_list_of_words()"
   ]
  },
  {
   "cell_type": "code",
   "execution_count": 13,
   "metadata": {},
   "outputs": [
    {
     "name": "stdout",
     "output_type": "stream",
     "text": [
      "['ОБЩЕСТВО', 'С', 'ОГРАНИЧЕННОЙ', 'ОТВЕТСТВЕННОСТЬЮ', 'ООО', 'АКЦИОНЕРНОЕ', 'АО', 'ПАО', 'КОМПАНИЯ', 'ПУБЛИЧНОЕ']\n"
     ]
    }
   ],
   "source": [
    "bag_of_words_ru, percentile = garbage.create_bag_of_words(word_list, 97)\n",
    "trash_list_ru = garbage_ru.create_trash_list(bag_of_words_ru, percentile)\n",
    "print(trash_list_ru)"
   ]
  },
  {
   "cell_type": "code",
   "execution_count": 14,
   "metadata": {},
   "outputs": [],
   "source": [
    "cleaner = Cleaner(df, ['PARTY_NAME', 'Eng_Name_SPARK'], trash_list)\n",
    "df = cleaner.prettify()"
   ]
  },
  {
   "cell_type": "code",
   "execution_count": 15,
   "metadata": {},
   "outputs": [],
   "source": [
    "cleaner_ru = Cleaner(df, ['Short_RU_SPARK','Full_RU_SPARK'], trash_list_ru)\n",
    "df = cleaner_ru.prettify()"
   ]
  },
  {
   "cell_type": "code",
   "execution_count": 18,
   "metadata": {},
   "outputs": [],
   "source": [
    "df.drop(['Eng_Name_SPARK', 'Short_RU_SPARK', 'Full_RU_SPARK'], axis=1, inplace=True)"
   ]
  },
  {
   "cell_type": "code",
   "execution_count": 19,
   "metadata": {},
   "outputs": [
    {
     "data": {
      "text/html": [
       "<div>\n",
       "<style scoped>\n",
       "    .dataframe tbody tr th:only-of-type {\n",
       "        vertical-align: middle;\n",
       "    }\n",
       "\n",
       "    .dataframe tbody tr th {\n",
       "        vertical-align: top;\n",
       "    }\n",
       "\n",
       "    .dataframe thead th {\n",
       "        text-align: right;\n",
       "    }\n",
       "</style>\n",
       "<table border=\"1\" class=\"dataframe\">\n",
       "  <thead>\n",
       "    <tr style=\"text-align: right;\">\n",
       "      <th></th>\n",
       "      <th>RU_TAX_NUMBER</th>\n",
       "      <th>PARTY_NAME</th>\n",
       "      <th>PARTY_NAME_Cleaned</th>\n",
       "      <th>Eng_Name_SPARK_Cleaned</th>\n",
       "      <th>Short_RU_SPARK_Cleaned</th>\n",
       "      <th>Full_RU_SPARK_Cleaned</th>\n",
       "    </tr>\n",
       "  </thead>\n",
       "  <tbody>\n",
       "    <tr>\n",
       "      <th>0</th>\n",
       "      <td>5407219194</td>\n",
       "      <td>PLANT METER</td>\n",
       "      <td>PLANT METER</td>\n",
       "      <td>PLANETA AN</td>\n",
       "      <td>АН ПЛАНЕТА</td>\n",
       "      <td>АГЕНТСТВО НЕДВИЖИМОСТИ ПЛАНЕТА</td>\n",
       "    </tr>\n",
       "    <tr>\n",
       "      <th>1</th>\n",
       "      <td>7724859897</td>\n",
       "      <td>KRAFTBAU GROUP</td>\n",
       "      <td>KRAFTBAU GROUP</td>\n",
       "      <td>KRAFTBAU INVEST</td>\n",
       "      <td>КРАФТБАУ ИНВЕСТ</td>\n",
       "      <td>КРАФТБАУ ИНВЕСТ</td>\n",
       "    </tr>\n",
       "    <tr>\n",
       "      <th>2</th>\n",
       "      <td>7708567350</td>\n",
       "      <td>IGS OOO</td>\n",
       "      <td>IGS</td>\n",
       "      <td>IGS</td>\n",
       "      <td>ИГС</td>\n",
       "      <td>ИНВЕСТГЕОСТРОЙ</td>\n",
       "    </tr>\n",
       "    <tr>\n",
       "      <th>3</th>\n",
       "      <td>3435127216</td>\n",
       "      <td>ENERGOTEKHMASH OAO</td>\n",
       "      <td>ENERGOTEKHMASH</td>\n",
       "      <td>ENERGOTEKHMASH</td>\n",
       "      <td>ЭНЕРГОТЕХМАШ</td>\n",
       "      <td>ЭНЕРГОТЕХМАШ</td>\n",
       "    </tr>\n",
       "    <tr>\n",
       "      <th>4</th>\n",
       "      <td>7722747404</td>\n",
       "      <td>ROYAL BANK OF SCOTLAND GROUP PLC</td>\n",
       "      <td>ROYAL SCOTLAND GROUP PLC</td>\n",
       "      <td>RBS-GRUPP</td>\n",
       "      <td>РБС-ГРУПП</td>\n",
       "      <td>РБС-ГРУПП</td>\n",
       "    </tr>\n",
       "  </tbody>\n",
       "</table>\n",
       "</div>"
      ],
      "text/plain": [
       "   RU_TAX_NUMBER                        PARTY_NAME        PARTY_NAME_Cleaned  \\\n",
       "0     5407219194                       PLANT METER               PLANT METER   \n",
       "1     7724859897                    KRAFTBAU GROUP            KRAFTBAU GROUP   \n",
       "2     7708567350                           IGS OOO                       IGS   \n",
       "3     3435127216                ENERGOTEKHMASH OAO            ENERGOTEKHMASH   \n",
       "4     7722747404  ROYAL BANK OF SCOTLAND GROUP PLC  ROYAL SCOTLAND GROUP PLC   \n",
       "\n",
       "  Eng_Name_SPARK_Cleaned Short_RU_SPARK_Cleaned  \\\n",
       "0             PLANETA AN             АН ПЛАНЕТА   \n",
       "1        KRAFTBAU INVEST        КРАФТБАУ ИНВЕСТ   \n",
       "2                    IGS                    ИГС   \n",
       "3         ENERGOTEKHMASH           ЭНЕРГОТЕХМАШ   \n",
       "4              RBS-GRUPP              РБС-ГРУПП   \n",
       "\n",
       "            Full_RU_SPARK_Cleaned  \n",
       "0  АГЕНТСТВО НЕДВИЖИМОСТИ ПЛАНЕТА  \n",
       "1                 КРАФТБАУ ИНВЕСТ  \n",
       "2                  ИНВЕСТГЕОСТРОЙ  \n",
       "3                    ЭНЕРГОТЕХМАШ  \n",
       "4                       РБС-ГРУПП  "
      ]
     },
     "execution_count": 19,
     "metadata": {},
     "output_type": "execute_result"
    }
   ],
   "source": [
    "df.head()"
   ]
  },
  {
   "cell_type": "code",
   "execution_count": 20,
   "metadata": {},
   "outputs": [],
   "source": [
    "df['D-L_rank_Eng'] = df.apply(\n",
    "    lambda x: damerau_levenstein(\n",
    "        x, col_previous='PARTY_NAME_Cleaned', col_shifted='Eng_Name_SPARK_Cleaned'), axis=1)"
   ]
  },
  {
   "cell_type": "code",
   "execution_count": 26,
   "metadata": {},
   "outputs": [
    {
     "data": {
      "text/plain": [
       "71768"
      ]
     },
     "execution_count": 26,
     "metadata": {},
     "output_type": "execute_result"
    }
   ],
   "source": [
    "df_1 = df[df['D-L_rank_Eng'] > 1] # left after 1st cleaning iteration\n",
    "len(df_1)"
   ]
  },
  {
   "cell_type": "code",
   "execution_count": 34,
   "metadata": {},
   "outputs": [
    {
     "data": {
      "text/html": [
       "<div>\n",
       "<style scoped>\n",
       "    .dataframe tbody tr th:only-of-type {\n",
       "        vertical-align: middle;\n",
       "    }\n",
       "\n",
       "    .dataframe tbody tr th {\n",
       "        vertical-align: top;\n",
       "    }\n",
       "\n",
       "    .dataframe thead th {\n",
       "        text-align: right;\n",
       "    }\n",
       "</style>\n",
       "<table border=\"1\" class=\"dataframe\">\n",
       "  <thead>\n",
       "    <tr style=\"text-align: right;\">\n",
       "      <th></th>\n",
       "      <th>RU_TAX_NUMBER</th>\n",
       "      <th>PARTY_NAME</th>\n",
       "      <th>PARTY_NAME_Cleaned</th>\n",
       "      <th>Eng_Name_SPARK_Cleaned</th>\n",
       "      <th>Short_RU_SPARK_Cleaned</th>\n",
       "      <th>Full_RU_SPARK_Cleaned</th>\n",
       "      <th>D-L_rank_Eng</th>\n",
       "    </tr>\n",
       "  </thead>\n",
       "  <tbody>\n",
       "    <tr>\n",
       "      <th>0</th>\n",
       "      <td>5407219194</td>\n",
       "      <td>PLANT METER</td>\n",
       "      <td>PLANT METER</td>\n",
       "      <td>PLANETA AN</td>\n",
       "      <td>АН ПЛАНЕТА</td>\n",
       "      <td>АГЕНТСТВО НЕДВИЖИМОСТИ ПЛАНЕТА</td>\n",
       "      <td>7</td>\n",
       "    </tr>\n",
       "    <tr>\n",
       "      <th>1</th>\n",
       "      <td>7724859897</td>\n",
       "      <td>KRAFTBAU GROUP</td>\n",
       "      <td>KRAFTBAU GROUP</td>\n",
       "      <td>KRAFTBAU INVEST</td>\n",
       "      <td>КРАФТБАУ ИНВЕСТ</td>\n",
       "      <td>КРАФТБАУ ИНВЕСТ</td>\n",
       "      <td>6</td>\n",
       "    </tr>\n",
       "    <tr>\n",
       "      <th>4</th>\n",
       "      <td>7722747404</td>\n",
       "      <td>ROYAL BANK OF SCOTLAND GROUP PLC</td>\n",
       "      <td>ROYAL SCOTLAND GROUP PLC</td>\n",
       "      <td>RBS-GRUPP</td>\n",
       "      <td>РБС-ГРУПП</td>\n",
       "      <td>РБС-ГРУПП</td>\n",
       "      <td>17</td>\n",
       "    </tr>\n",
       "    <tr>\n",
       "      <th>5</th>\n",
       "      <td>7731442896</td>\n",
       "      <td>HORS GROUP</td>\n",
       "      <td>HORS GROUP</td>\n",
       "      <td>KHORS</td>\n",
       "      <td>ХОРС</td>\n",
       "      <td>ХОРС</td>\n",
       "      <td>7</td>\n",
       "    </tr>\n",
       "    <tr>\n",
       "      <th>7</th>\n",
       "      <td>7714700709</td>\n",
       "      <td>INCHCAPE</td>\n",
       "      <td>INCHCAPE</td>\n",
       "      <td>INCHKEIP KHOLDING</td>\n",
       "      <td>ИНЧКЕЙП ХОЛДИНГ</td>\n",
       "      <td>ИНЧКЕЙП ХОЛДИНГ</td>\n",
       "      <td>12</td>\n",
       "    </tr>\n",
       "  </tbody>\n",
       "</table>\n",
       "</div>"
      ],
      "text/plain": [
       "   RU_TAX_NUMBER                        PARTY_NAME        PARTY_NAME_Cleaned  \\\n",
       "0     5407219194                       PLANT METER               PLANT METER   \n",
       "1     7724859897                    KRAFTBAU GROUP            KRAFTBAU GROUP   \n",
       "4     7722747404  ROYAL BANK OF SCOTLAND GROUP PLC  ROYAL SCOTLAND GROUP PLC   \n",
       "5     7731442896                        HORS GROUP                HORS GROUP   \n",
       "7     7714700709                          INCHCAPE                  INCHCAPE   \n",
       "\n",
       "  Eng_Name_SPARK_Cleaned Short_RU_SPARK_Cleaned  \\\n",
       "0             PLANETA AN             АН ПЛАНЕТА   \n",
       "1        KRAFTBAU INVEST        КРАФТБАУ ИНВЕСТ   \n",
       "4              RBS-GRUPP              РБС-ГРУПП   \n",
       "5                  KHORS                   ХОРС   \n",
       "7      INCHKEIP KHOLDING        ИНЧКЕЙП ХОЛДИНГ   \n",
       "\n",
       "            Full_RU_SPARK_Cleaned  D-L_rank_Eng  \n",
       "0  АГЕНТСТВО НЕДВИЖИМОСТИ ПЛАНЕТА             7  \n",
       "1                 КРАФТБАУ ИНВЕСТ             6  \n",
       "4                       РБС-ГРУПП            17  \n",
       "5                            ХОРС             7  \n",
       "7                 ИНЧКЕЙП ХОЛДИНГ            12  "
      ]
     },
     "execution_count": 34,
     "metadata": {},
     "output_type": "execute_result"
    }
   ],
   "source": [
    "df_1.head(5)"
   ]
  },
  {
   "cell_type": "markdown",
   "metadata": {},
   "source": [
    "### Validation phase_2 (partly manual)"
   ]
  },
  {
   "cell_type": "code",
   "execution_count": 41,
   "metadata": {
    "collapsed": true
   },
   "outputs": [
    {
     "name": "stderr",
     "output_type": "stream",
     "text": [
      "C:\\Users\\vpoletae\\AppData\\Local\\Continuum\\anaconda3\\lib\\site-packages\\ipykernel_launcher.py:14: SettingWithCopyWarning: \n",
      "A value is trying to be set on a copy of a slice from a DataFrame.\n",
      "Try using .loc[row_indexer,col_indexer] = value instead\n",
      "\n",
      "See the caveats in the documentation: http://pandas.pydata.org/pandas-docs/stable/indexing.html#indexing-view-versus-copy\n",
      "  \n"
     ]
    }
   ],
   "source": [
    "garbage = Garbage_finder(df_1, ['PARTY_NAME_Cleaned','Eng_Name_SPARK_Cleaned'])\n",
    "df_1, word_list = garbage.create_list_of_words()"
   ]
  },
  {
   "cell_type": "code",
   "execution_count": 42,
   "metadata": {},
   "outputs": [
    {
     "name": "stdout",
     "output_type": "stream",
     "text": [
      "['', 'KOMPANIYA', 'GROUP', 'RUS', 'OBSHESTVO', 'STOCK', 'JOINT', 'RUSSIA', 'AKCIONERNOE', 'THE', 'KB', 'I', 'AND', 'ZAVOD', 'MOSCOW', 'NM-KOMPANI', 'SERVIS', 'GRUPP', 'CENTER', 'SYSTEMS', 'SERVICE', 'LIABILITY', 'ZAKRITOE', 'INC', 'LIMITED', 'HOME', 'NAN', 'FIRMA', 'OJSC', 'IT', 'TSENTR', 'RUSSIAN', 'TELECOM', 'GLOBAL', 'S', 'GAZPROM', 'TECHNOLOGIES', 'ROSSII', 'BUSINESS', 'TD', 'REGION', 'VTB', 'INTERNATIONAL', 'CORPORATION', 'SERVICES', 'UK', 'TELEKOM']\n"
     ]
    }
   ],
   "source": [
    "bag_of_words, percentile = garbage.create_bag_of_words(word_list, 85)\n",
    "trash_list = garbage.create_trash_list(bag_of_words, percentile)\n",
    "print(trash_list)"
   ]
  },
  {
   "cell_type": "code",
   "execution_count": 46,
   "metadata": {},
   "outputs": [],
   "source": [
    "trash_list_manual_eng = ['', 'KOMPANIYA', 'RUS', 'GROUP', 'OBSHESTVO', \n",
    "                        'STOCK', 'JOINT', 'AKCIONERNOE', 'THE', 'GRUPP',\n",
    "                        'FIRMA', 'LIABILITY', 'ZAKRITOE', 'INC', 'LIMITED',\n",
    "                        'NAN', 'OJSC', 'GLOBAL', 'TD', 'UK', 'KHOLDING'] # manual creation"
   ]
  },
  {
   "cell_type": "code",
   "execution_count": 35,
   "metadata": {},
   "outputs": [],
   "source": [
    "garbage_ru = Garbage_finder(df_1, ['Short_RU_SPARK_Cleaned','Full_RU_SPARK_Cleaned'])\n",
    "df_1, word_list = garbage_ru.create_list_of_words()"
   ]
  },
  {
   "cell_type": "code",
   "execution_count": 37,
   "metadata": {},
   "outputs": [
    {
     "name": "stdout",
     "output_type": "stream",
     "text": [
      "['БАНК', 'ЗАКРЫТОЕ', 'ЗАО', 'РОСТЕЛЕКОМ', 'ЦЕНТР', 'И', 'РУС', '-', 'СЕРВИС', 'ТЕХНОЛОГИИ', 'ГРУПП', 'НМ-КОМПАНИ', 'ФИРМА', 'ЗАВОД', 'СИСТЕМЫ', 'ПРЕДПРИЯТИЕ', 'NAN', '', 'ГАЗПРОМ', 'ТЕЛЕКОМ', 'ОАО', 'ОТКРЫТОЕ', 'ДОМ', 'СИСТЕМС', 'ЭНД', 'КОММЕРЧЕСКИЙ', 'ГРУППА', 'АГЕНТСТВО', 'ТОРГОВЫЙ', 'СИТИБАНК', 'ГРУП', 'ИНСТИТУТ', 'КБ', 'ПЛЮС', 'ПО', 'ФИЛИАЛ', 'БИЗНЕС', 'ГЛОБАЛ', 'УПРАВЛЕНИЕ', 'КОРПОРАЦИЯ', 'МТС', 'РОССИИ', 'ВТБ', 'КОНСАЛТИНГ', 'СИ', 'УПРАВЛЯЮЩАЯ', 'СИСКО', 'ОБЩЕСТВО)', 'АЙ', 'СК', 'ВОСТОК', 'ТД']\n"
     ]
    }
   ],
   "source": [
    "bag_of_words_ru, percentile = garbage.create_bag_of_words(word_list, 85)\n",
    "trash_list_ru = garbage_ru.create_trash_list(bag_of_words_ru, percentile)\n",
    "print(trash_list_ru)"
   ]
  },
  {
   "cell_type": "code",
   "execution_count": 47,
   "metadata": {},
   "outputs": [],
   "source": [
    "trash_list_manual_ru = ['ЗАКРЫТОЕ', 'ЗАО', 'РУС', '-', 'ГРУПП', 'ФИРМА',\n",
    "                       'NAN', '', 'ОАО', 'ОТКРЫТОЕ', 'ГРУППА', 'ГРУП',\n",
    "                       'ФИЛИАЛ', 'ГЛОБАЛ', 'КОРПОРАЦИЯ', 'ОБЩЕСТВО)', 'ХОЛДИНГ'] # manual creation"
   ]
  },
  {
   "cell_type": "code",
   "execution_count": 51,
   "metadata": {
    "collapsed": true
   },
   "outputs": [
    {
     "name": "stderr",
     "output_type": "stream",
     "text": [
      "C:\\Users\\vpoletae\\AppData\\Local\\Continuum\\anaconda3\\lib\\site-packages\\ipykernel_launcher.py:35: SettingWithCopyWarning: \n",
      "A value is trying to be set on a copy of a slice from a DataFrame.\n",
      "Try using .loc[row_indexer,col_indexer] = value instead\n",
      "\n",
      "See the caveats in the documentation: http://pandas.pydata.org/pandas-docs/stable/indexing.html#indexing-view-versus-copy\n",
      "C:\\Users\\vpoletae\\AppData\\Local\\Continuum\\anaconda3\\lib\\site-packages\\ipykernel_launcher.py:37: SettingWithCopyWarning: \n",
      "A value is trying to be set on a copy of a slice from a DataFrame.\n",
      "Try using .loc[row_indexer,col_indexer] = value instead\n",
      "\n",
      "See the caveats in the documentation: http://pandas.pydata.org/pandas-docs/stable/indexing.html#indexing-view-versus-copy\n"
     ]
    }
   ],
   "source": [
    "cleaner = Cleaner(df_1, ['PARTY_NAME_Cleaned','Eng_Name_SPARK_Cleaned'], trash_list_manual_eng)\n",
    "df_1 = cleaner.prettify()"
   ]
  },
  {
   "cell_type": "code",
   "execution_count": 52,
   "metadata": {
    "collapsed": true
   },
   "outputs": [
    {
     "name": "stderr",
     "output_type": "stream",
     "text": [
      "C:\\Users\\vpoletae\\AppData\\Local\\Continuum\\anaconda3\\lib\\site-packages\\ipykernel_launcher.py:35: SettingWithCopyWarning: \n",
      "A value is trying to be set on a copy of a slice from a DataFrame.\n",
      "Try using .loc[row_indexer,col_indexer] = value instead\n",
      "\n",
      "See the caveats in the documentation: http://pandas.pydata.org/pandas-docs/stable/indexing.html#indexing-view-versus-copy\n",
      "C:\\Users\\vpoletae\\AppData\\Local\\Continuum\\anaconda3\\lib\\site-packages\\ipykernel_launcher.py:37: SettingWithCopyWarning: \n",
      "A value is trying to be set on a copy of a slice from a DataFrame.\n",
      "Try using .loc[row_indexer,col_indexer] = value instead\n",
      "\n",
      "See the caveats in the documentation: http://pandas.pydata.org/pandas-docs/stable/indexing.html#indexing-view-versus-copy\n"
     ]
    }
   ],
   "source": [
    "cleaner_ru = Cleaner(df_1, ['Short_RU_SPARK_Cleaned','Full_RU_SPARK_Cleaned'], trash_list_manual_ru)\n",
    "df_1 = cleaner_ru.prettify()"
   ]
  },
  {
   "cell_type": "code",
   "execution_count": 55,
   "metadata": {
    "collapsed": true
   },
   "outputs": [
    {
     "name": "stderr",
     "output_type": "stream",
     "text": [
      "C:\\Users\\vpoletae\\AppData\\Local\\Continuum\\anaconda3\\lib\\site-packages\\pandas\\core\\frame.py:3697: SettingWithCopyWarning: \n",
      "A value is trying to be set on a copy of a slice from a DataFrame\n",
      "\n",
      "See the caveats in the documentation: http://pandas.pydata.org/pandas-docs/stable/indexing.html#indexing-view-versus-copy\n",
      "  errors=errors)\n"
     ]
    }
   ],
   "source": [
    "df_1.drop(['PARTY_NAME_Cleaned', 'Eng_Name_SPARK_Cleaned', 'Short_RU_SPARK_Cleaned',\n",
    "        'Full_RU_SPARK_Cleaned', 'D-L_rank_Eng', ], axis=1, inplace=True)"
   ]
  },
  {
   "cell_type": "code",
   "execution_count": 58,
   "metadata": {},
   "outputs": [],
   "source": [
    "df_1 = df_1.rename(columns={'PARTY_NAME_Cleaned_Cleaned': 'PARTY_NAME_C', \n",
    "                        'Eng_Name_SPARK_Cleaned_Cleaned': 'Eng_Name_SPARK_C', \n",
    "                        'Short_RU_SPARK_Cleaned_Cleaned': 'Short_RU_SPARK_C',\n",
    "                       'Full_RU_SPARK_Cleaned_Cleaned': 'Full_RU_SPARK_C'})"
   ]
  },
  {
   "cell_type": "code",
   "execution_count": 59,
   "metadata": {},
   "outputs": [
    {
     "data": {
      "text/html": [
       "<div>\n",
       "<style scoped>\n",
       "    .dataframe tbody tr th:only-of-type {\n",
       "        vertical-align: middle;\n",
       "    }\n",
       "\n",
       "    .dataframe tbody tr th {\n",
       "        vertical-align: top;\n",
       "    }\n",
       "\n",
       "    .dataframe thead th {\n",
       "        text-align: right;\n",
       "    }\n",
       "</style>\n",
       "<table border=\"1\" class=\"dataframe\">\n",
       "  <thead>\n",
       "    <tr style=\"text-align: right;\">\n",
       "      <th></th>\n",
       "      <th>RU_TAX_NUMBER</th>\n",
       "      <th>PARTY_NAME</th>\n",
       "      <th>PARTY_NAME_C</th>\n",
       "      <th>Eng_Name_SPARK_C</th>\n",
       "      <th>Short_RU_SPARK_C</th>\n",
       "      <th>Full_RU_SPARK_C</th>\n",
       "    </tr>\n",
       "  </thead>\n",
       "  <tbody>\n",
       "    <tr>\n",
       "      <th>0</th>\n",
       "      <td>5407219194</td>\n",
       "      <td>PLANT METER</td>\n",
       "      <td>PLANT METER</td>\n",
       "      <td>PLANETA AN</td>\n",
       "      <td>АН ПЛАНЕТА</td>\n",
       "      <td>АГЕНТСТВО НЕДВИЖИМОСТИ ПЛАНЕТА</td>\n",
       "    </tr>\n",
       "    <tr>\n",
       "      <th>1</th>\n",
       "      <td>7724859897</td>\n",
       "      <td>KRAFTBAU GROUP</td>\n",
       "      <td>KRAFTBAU</td>\n",
       "      <td>KRAFTBAU INVEST</td>\n",
       "      <td>КРАФТБАУ ИНВЕСТ</td>\n",
       "      <td>КРАФТБАУ ИНВЕСТ</td>\n",
       "    </tr>\n",
       "    <tr>\n",
       "      <th>4</th>\n",
       "      <td>7722747404</td>\n",
       "      <td>ROYAL BANK OF SCOTLAND GROUP PLC</td>\n",
       "      <td>ROYAL SCOTLAND PLC</td>\n",
       "      <td>RBS-GRUPP</td>\n",
       "      <td>РБС-ГРУПП</td>\n",
       "      <td>РБС-ГРУПП</td>\n",
       "    </tr>\n",
       "    <tr>\n",
       "      <th>5</th>\n",
       "      <td>7731442896</td>\n",
       "      <td>HORS GROUP</td>\n",
       "      <td>HORS</td>\n",
       "      <td>KHORS</td>\n",
       "      <td>ХОРС</td>\n",
       "      <td>ХОРС</td>\n",
       "    </tr>\n",
       "    <tr>\n",
       "      <th>7</th>\n",
       "      <td>7714700709</td>\n",
       "      <td>INCHCAPE</td>\n",
       "      <td>INCHCAPE</td>\n",
       "      <td>INCHKEIP</td>\n",
       "      <td>ИНЧКЕЙП</td>\n",
       "      <td>ИНЧКЕЙП</td>\n",
       "    </tr>\n",
       "  </tbody>\n",
       "</table>\n",
       "</div>"
      ],
      "text/plain": [
       "   RU_TAX_NUMBER                        PARTY_NAME        PARTY_NAME_C  \\\n",
       "0     5407219194                       PLANT METER         PLANT METER   \n",
       "1     7724859897                    KRAFTBAU GROUP            KRAFTBAU   \n",
       "4     7722747404  ROYAL BANK OF SCOTLAND GROUP PLC  ROYAL SCOTLAND PLC   \n",
       "5     7731442896                        HORS GROUP                HORS   \n",
       "7     7714700709                          INCHCAPE            INCHCAPE   \n",
       "\n",
       "  Eng_Name_SPARK_C Short_RU_SPARK_C                 Full_RU_SPARK_C  \n",
       "0       PLANETA AN       АН ПЛАНЕТА  АГЕНТСТВО НЕДВИЖИМОСТИ ПЛАНЕТА  \n",
       "1  KRAFTBAU INVEST  КРАФТБАУ ИНВЕСТ                 КРАФТБАУ ИНВЕСТ  \n",
       "4        RBS-GRUPP        РБС-ГРУПП                       РБС-ГРУПП  \n",
       "5            KHORS             ХОРС                            ХОРС  \n",
       "7         INCHKEIP          ИНЧКЕЙП                         ИНЧКЕЙП  "
      ]
     },
     "execution_count": 59,
     "metadata": {},
     "output_type": "execute_result"
    }
   ],
   "source": [
    "df_1.head()"
   ]
  },
  {
   "cell_type": "code",
   "execution_count": 61,
   "metadata": {},
   "outputs": [],
   "source": [
    "df_1['D-L_rank_Eng'] = df_1.apply(\n",
    "    lambda x: damerau_levenstein(\n",
    "        x, col_previous='PARTY_NAME_C', col_shifted='Eng_Name_SPARK_C'), axis=1)"
   ]
  },
  {
   "cell_type": "code",
   "execution_count": 65,
   "metadata": {},
   "outputs": [
    {
     "data": {
      "text/plain": [
       "69675"
      ]
     },
     "execution_count": 65,
     "metadata": {},
     "output_type": "execute_result"
    }
   ],
   "source": [
    "df_2 = df_1[df_1['D-L_rank_Eng'] > 1] # left after 2nd cleaning iteration\n",
    "len(df_2)"
   ]
  },
  {
   "cell_type": "code",
   "execution_count": 66,
   "metadata": {},
   "outputs": [],
   "source": [
    "df_2.to_excel(os.path.join(PATH, 'df_2_backup.xlsx'))"
   ]
  },
  {
   "cell_type": "markdown",
   "metadata": {},
   "source": [
    "### Validation Phase_3"
   ]
  },
  {
   "cell_type": "markdown",
   "metadata": {},
   "source": [
    "#### Now operating with df_2"
   ]
  },
  {
   "cell_type": "code",
   "execution_count": 10,
   "metadata": {},
   "outputs": [],
   "source": [
    "from transliterate import translit"
   ]
  },
  {
   "cell_type": "code",
   "execution_count": 12,
   "metadata": {},
   "outputs": [],
   "source": [
    "df_2 = pd.read_excel(os.path.join(PATH, 'df_2_backup.xlsx'))"
   ]
  },
  {
   "cell_type": "code",
   "execution_count": 13,
   "metadata": {},
   "outputs": [
    {
     "data": {
      "text/html": [
       "<div>\n",
       "<style scoped>\n",
       "    .dataframe tbody tr th:only-of-type {\n",
       "        vertical-align: middle;\n",
       "    }\n",
       "\n",
       "    .dataframe tbody tr th {\n",
       "        vertical-align: top;\n",
       "    }\n",
       "\n",
       "    .dataframe thead th {\n",
       "        text-align: right;\n",
       "    }\n",
       "</style>\n",
       "<table border=\"1\" class=\"dataframe\">\n",
       "  <thead>\n",
       "    <tr style=\"text-align: right;\">\n",
       "      <th></th>\n",
       "      <th>RU_TAX_NUMBER</th>\n",
       "      <th>PARTY_NAME</th>\n",
       "      <th>PARTY_NAME_C</th>\n",
       "      <th>Eng_Name_SPARK_C</th>\n",
       "      <th>Short_RU_SPARK_C</th>\n",
       "      <th>Full_RU_SPARK_C</th>\n",
       "      <th>D-L_rank_Eng</th>\n",
       "    </tr>\n",
       "  </thead>\n",
       "  <tbody>\n",
       "    <tr>\n",
       "      <th>0</th>\n",
       "      <td>5407219194</td>\n",
       "      <td>PLANT METER</td>\n",
       "      <td>PLANT METER</td>\n",
       "      <td>PLANETA AN</td>\n",
       "      <td>АН ПЛАНЕТА</td>\n",
       "      <td>АГЕНТСТВО НЕДВИЖИМОСТИ ПЛАНЕТА</td>\n",
       "      <td>7</td>\n",
       "    </tr>\n",
       "    <tr>\n",
       "      <th>1</th>\n",
       "      <td>7724859897</td>\n",
       "      <td>KRAFTBAU GROUP</td>\n",
       "      <td>KRAFTBAU</td>\n",
       "      <td>KRAFTBAU INVEST</td>\n",
       "      <td>КРАФТБАУ ИНВЕСТ</td>\n",
       "      <td>КРАФТБАУ ИНВЕСТ</td>\n",
       "      <td>7</td>\n",
       "    </tr>\n",
       "    <tr>\n",
       "      <th>4</th>\n",
       "      <td>7722747404</td>\n",
       "      <td>ROYAL BANK OF SCOTLAND GROUP PLC</td>\n",
       "      <td>ROYAL SCOTLAND PLC</td>\n",
       "      <td>RBS-GRUPP</td>\n",
       "      <td>РБС-ГРУПП</td>\n",
       "      <td>РБС-ГРУПП</td>\n",
       "      <td>15</td>\n",
       "    </tr>\n",
       "    <tr>\n",
       "      <th>7</th>\n",
       "      <td>7714700709</td>\n",
       "      <td>INCHCAPE</td>\n",
       "      <td>INCHCAPE</td>\n",
       "      <td>INCHKEIP</td>\n",
       "      <td>ИНЧКЕЙП</td>\n",
       "      <td>ИНЧКЕЙП</td>\n",
       "      <td>4</td>\n",
       "    </tr>\n",
       "    <tr>\n",
       "      <th>10</th>\n",
       "      <td>5405305063</td>\n",
       "      <td>INFOTRACK</td>\n",
       "      <td>INFOTRACK</td>\n",
       "      <td>GALAKT-INFO AF</td>\n",
       "      <td>АФ ГАЛАКТ-ИНФО</td>\n",
       "      <td>АУДИТОРСКАЯ ГАЛАКТ-ИНФО</td>\n",
       "      <td>11</td>\n",
       "    </tr>\n",
       "  </tbody>\n",
       "</table>\n",
       "</div>"
      ],
      "text/plain": [
       "    RU_TAX_NUMBER                        PARTY_NAME        PARTY_NAME_C  \\\n",
       "0      5407219194                       PLANT METER         PLANT METER   \n",
       "1      7724859897                    KRAFTBAU GROUP            KRAFTBAU   \n",
       "4      7722747404  ROYAL BANK OF SCOTLAND GROUP PLC  ROYAL SCOTLAND PLC   \n",
       "7      7714700709                          INCHCAPE            INCHCAPE   \n",
       "10     5405305063                         INFOTRACK           INFOTRACK   \n",
       "\n",
       "   Eng_Name_SPARK_C Short_RU_SPARK_C                 Full_RU_SPARK_C  \\\n",
       "0        PLANETA AN       АН ПЛАНЕТА  АГЕНТСТВО НЕДВИЖИМОСТИ ПЛАНЕТА   \n",
       "1   KRAFTBAU INVEST  КРАФТБАУ ИНВЕСТ                 КРАФТБАУ ИНВЕСТ   \n",
       "4         RBS-GRUPP        РБС-ГРУПП                       РБС-ГРУПП   \n",
       "7          INCHKEIP          ИНЧКЕЙП                         ИНЧКЕЙП   \n",
       "10   GALAKT-INFO AF   АФ ГАЛАКТ-ИНФО         АУДИТОРСКАЯ ГАЛАКТ-ИНФО   \n",
       "\n",
       "    D-L_rank_Eng  \n",
       "0              7  \n",
       "1              7  \n",
       "4             15  \n",
       "7              4  \n",
       "10            11  "
      ]
     },
     "execution_count": 13,
     "metadata": {},
     "output_type": "execute_result"
    }
   ],
   "source": [
    "df_2.head()"
   ]
  },
  {
   "cell_type": "code",
   "execution_count": 29,
   "metadata": {},
   "outputs": [],
   "source": [
    "def transliterate(x):\n",
    "    translated = ''\n",
    "    try:\n",
    "        translated = translit(x, 'ru', reversed=True).upper()\n",
    "    except AttributeError:\n",
    "        translated = x\n",
    "    return translated"
   ]
  },
  {
   "cell_type": "code",
   "execution_count": 30,
   "metadata": {},
   "outputs": [],
   "source": [
    "df_2['Full_RU_SPARK_tran'] = df_2['Full_RU_SPARK_C'].apply(lambda x: transliterate(x))"
   ]
  },
  {
   "cell_type": "code",
   "execution_count": 36,
   "metadata": {},
   "outputs": [],
   "source": [
    "df_2['Len_PARTY_NAME_C'] = df_2['PARTY_NAME_C'].apply(lambda x: len(str(x)))"
   ]
  },
  {
   "cell_type": "code",
   "execution_count": 37,
   "metadata": {
    "scrolled": true
   },
   "outputs": [
    {
     "data": {
      "text/html": [
       "<div>\n",
       "<style scoped>\n",
       "    .dataframe tbody tr th:only-of-type {\n",
       "        vertical-align: middle;\n",
       "    }\n",
       "\n",
       "    .dataframe tbody tr th {\n",
       "        vertical-align: top;\n",
       "    }\n",
       "\n",
       "    .dataframe thead th {\n",
       "        text-align: right;\n",
       "    }\n",
       "</style>\n",
       "<table border=\"1\" class=\"dataframe\">\n",
       "  <thead>\n",
       "    <tr style=\"text-align: right;\">\n",
       "      <th></th>\n",
       "      <th>RU_TAX_NUMBER</th>\n",
       "      <th>PARTY_NAME</th>\n",
       "      <th>PARTY_NAME_C</th>\n",
       "      <th>Eng_Name_SPARK_C</th>\n",
       "      <th>Short_RU_SPARK_C</th>\n",
       "      <th>Full_RU_SPARK_C</th>\n",
       "      <th>D-L_rank_Eng</th>\n",
       "      <th>Full_RU_SPARK_tran</th>\n",
       "      <th>Len_PARTY_NAME_C</th>\n",
       "    </tr>\n",
       "  </thead>\n",
       "  <tbody>\n",
       "    <tr>\n",
       "      <th>0</th>\n",
       "      <td>5407219194</td>\n",
       "      <td>PLANT METER</td>\n",
       "      <td>PLANT METER</td>\n",
       "      <td>PLANETA AN</td>\n",
       "      <td>АН ПЛАНЕТА</td>\n",
       "      <td>АГЕНТСТВО НЕДВИЖИМОСТИ ПЛАНЕТА</td>\n",
       "      <td>25</td>\n",
       "      <td>AGENTSTVO NEDVIZHIMOSTI PLANETA</td>\n",
       "      <td>11</td>\n",
       "    </tr>\n",
       "    <tr>\n",
       "      <th>1</th>\n",
       "      <td>7724859897</td>\n",
       "      <td>KRAFTBAU GROUP</td>\n",
       "      <td>KRAFTBAU</td>\n",
       "      <td>KRAFTBAU INVEST</td>\n",
       "      <td>КРАФТБАУ ИНВЕСТ</td>\n",
       "      <td>КРАФТБАУ ИНВЕСТ</td>\n",
       "      <td>7</td>\n",
       "      <td>KRAFTBAU INVEST</td>\n",
       "      <td>8</td>\n",
       "    </tr>\n",
       "    <tr>\n",
       "      <th>4</th>\n",
       "      <td>7722747404</td>\n",
       "      <td>ROYAL BANK OF SCOTLAND GROUP PLC</td>\n",
       "      <td>ROYAL SCOTLAND PLC</td>\n",
       "      <td>RBS-GRUPP</td>\n",
       "      <td>РБС-ГРУПП</td>\n",
       "      <td>РБС-ГРУПП</td>\n",
       "      <td>15</td>\n",
       "      <td>RBS-GRUPP</td>\n",
       "      <td>18</td>\n",
       "    </tr>\n",
       "    <tr>\n",
       "      <th>7</th>\n",
       "      <td>7714700709</td>\n",
       "      <td>INCHCAPE</td>\n",
       "      <td>INCHCAPE</td>\n",
       "      <td>INCHKEIP</td>\n",
       "      <td>ИНЧКЕЙП</td>\n",
       "      <td>ИНЧКЕЙП</td>\n",
       "      <td>4</td>\n",
       "      <td>INCHKEJP</td>\n",
       "      <td>8</td>\n",
       "    </tr>\n",
       "    <tr>\n",
       "      <th>10</th>\n",
       "      <td>5405305063</td>\n",
       "      <td>INFOTRACK</td>\n",
       "      <td>INFOTRACK</td>\n",
       "      <td>GALAKT-INFO AF</td>\n",
       "      <td>АФ ГАЛАКТ-ИНФО</td>\n",
       "      <td>АУДИТОРСКАЯ ГАЛАКТ-ИНФО</td>\n",
       "      <td>20</td>\n",
       "      <td>AUDITORSKAJA GALAKT-INFO</td>\n",
       "      <td>9</td>\n",
       "    </tr>\n",
       "  </tbody>\n",
       "</table>\n",
       "</div>"
      ],
      "text/plain": [
       "    RU_TAX_NUMBER                        PARTY_NAME        PARTY_NAME_C  \\\n",
       "0      5407219194                       PLANT METER         PLANT METER   \n",
       "1      7724859897                    KRAFTBAU GROUP            KRAFTBAU   \n",
       "4      7722747404  ROYAL BANK OF SCOTLAND GROUP PLC  ROYAL SCOTLAND PLC   \n",
       "7      7714700709                          INCHCAPE            INCHCAPE   \n",
       "10     5405305063                         INFOTRACK           INFOTRACK   \n",
       "\n",
       "   Eng_Name_SPARK_C Short_RU_SPARK_C                 Full_RU_SPARK_C  \\\n",
       "0        PLANETA AN       АН ПЛАНЕТА  АГЕНТСТВО НЕДВИЖИМОСТИ ПЛАНЕТА   \n",
       "1   KRAFTBAU INVEST  КРАФТБАУ ИНВЕСТ                 КРАФТБАУ ИНВЕСТ   \n",
       "4         RBS-GRUPP        РБС-ГРУПП                       РБС-ГРУПП   \n",
       "7          INCHKEIP          ИНЧКЕЙП                         ИНЧКЕЙП   \n",
       "10   GALAKT-INFO AF   АФ ГАЛАКТ-ИНФО         АУДИТОРСКАЯ ГАЛАКТ-ИНФО   \n",
       "\n",
       "    D-L_rank_Eng               Full_RU_SPARK_tran  Len_PARTY_NAME_C  \n",
       "0             25  AGENTSTVO NEDVIZHIMOSTI PLANETA                11  \n",
       "1              7                  KRAFTBAU INVEST                 8  \n",
       "4             15                        RBS-GRUPP                18  \n",
       "7              4                         INCHKEJP                 8  \n",
       "10            20         AUDITORSKAJA GALAKT-INFO                 9  "
      ]
     },
     "execution_count": 37,
     "metadata": {},
     "output_type": "execute_result"
    }
   ],
   "source": [
    "df_2.head()"
   ]
  },
  {
   "cell_type": "code",
   "execution_count": 32,
   "metadata": {},
   "outputs": [],
   "source": [
    "df_2['D-L_rank_Eng'] = df_2.apply(\n",
    "    lambda x: damerau_levenstein(\n",
    "        x, col_previous='PARTY_NAME_C', col_shifted='Full_RU_SPARK_tran'), axis=1)"
   ]
  },
  {
   "cell_type": "code",
   "execution_count": 46,
   "metadata": {},
   "outputs": [],
   "source": [
    "df_3 = df_2[(df_2['Len_PARTY_NAME_C'] > 12) & (df_2['D-L_rank_Eng'] < 4)]"
   ]
  },
  {
   "cell_type": "code",
   "execution_count": 55,
   "metadata": {},
   "outputs": [],
   "source": [
    "df_3 = df_2[~df_2.index.isin(df_3.index)] # left after 3d cleaning iteration"
   ]
  },
  {
   "cell_type": "code",
   "execution_count": 56,
   "metadata": {},
   "outputs": [
    {
     "data": {
      "text/plain": [
       "66664"
      ]
     },
     "execution_count": 56,
     "metadata": {},
     "output_type": "execute_result"
    }
   ],
   "source": [
    "len(df_3)"
   ]
  },
  {
   "cell_type": "code",
   "execution_count": 57,
   "metadata": {},
   "outputs": [],
   "source": [
    "df_3.to_excel(os.path.join(PATH, 'df_3_backup.xlsx'))"
   ]
  },
  {
   "cell_type": "markdown",
   "metadata": {},
   "source": [
    "### Validation Phase_4"
   ]
  },
  {
   "cell_type": "code",
   "execution_count": 67,
   "metadata": {},
   "outputs": [],
   "source": [
    "df_4 = df_3[(df_3['Len_PARTY_NAME_C'] > 15) & (df_3['D-L_rank_Eng'] < 5)]"
   ]
  },
  {
   "cell_type": "code",
   "execution_count": 69,
   "metadata": {},
   "outputs": [],
   "source": [
    "df_4 = df_3[~df_3.index.isin(df_4.index)]"
   ]
  },
  {
   "cell_type": "code",
   "execution_count": 70,
   "metadata": {},
   "outputs": [
    {
     "data": {
      "text/plain": [
       "66033"
      ]
     },
     "execution_count": 70,
     "metadata": {},
     "output_type": "execute_result"
    }
   ],
   "source": [
    "len(df_4)"
   ]
  },
  {
   "cell_type": "code",
   "execution_count": 71,
   "metadata": {},
   "outputs": [],
   "source": [
    "df_4.to_excel(os.path.join(PATH, 'df_4_backup.xlsx'))"
   ]
  },
  {
   "cell_type": "markdown",
   "metadata": {},
   "source": [
    "#### Phase 4a"
   ]
  },
  {
   "cell_type": "code",
   "execution_count": 10,
   "metadata": {},
   "outputs": [],
   "source": [
    "df_4 = pd.read_excel(os.path.join(PATH, 'df_4_backup.xlsx'))"
   ]
  },
  {
   "cell_type": "code",
   "execution_count": 49,
   "metadata": {},
   "outputs": [
    {
     "data": {
      "text/plain": [
       "1629"
      ]
     },
     "execution_count": 49,
     "metadata": {},
     "output_type": "execute_result"
    }
   ],
   "source": [
    "len(df_4[((df_4['Len_PARTY_NAME_C'] > 6) & (df_4['Len_PARTY_NAME_C'] <= 8)) & (df_4['D-L_rank_Eng'] <= 3)])"
   ]
  },
  {
   "cell_type": "code",
   "execution_count": 50,
   "metadata": {},
   "outputs": [],
   "source": [
    "df_5 = df_4[((df_4['Len_PARTY_NAME_C'] > 6) & (df_4['Len_PARTY_NAME_C'] <= 8)) & (df_4['D-L_rank_Eng'] <= 3)]"
   ]
  },
  {
   "cell_type": "code",
   "execution_count": 51,
   "metadata": {},
   "outputs": [],
   "source": [
    "df_6 = df_4[~df_4.index.isin(df_5.index)]"
   ]
  },
  {
   "cell_type": "code",
   "execution_count": 52,
   "metadata": {},
   "outputs": [
    {
     "data": {
      "text/plain": [
       "63670"
      ]
     },
     "execution_count": 52,
     "metadata": {},
     "output_type": "execute_result"
    }
   ],
   "source": [
    "len(df_6)"
   ]
  },
  {
   "cell_type": "code",
   "execution_count": 53,
   "metadata": {},
   "outputs": [
    {
     "data": {
      "text/plain": [
       "2162"
      ]
     },
     "execution_count": 53,
     "metadata": {},
     "output_type": "execute_result"
    }
   ],
   "source": [
    "len(df_6[((df_6['Len_PARTY_NAME_C'] > 8) & (df_6['Len_PARTY_NAME_C'] <= 10)) & (df_6['D-L_rank_Eng'] <= 4)])"
   ]
  },
  {
   "cell_type": "code",
   "execution_count": 54,
   "metadata": {},
   "outputs": [],
   "source": [
    "df_7 = df_6[((df_6['Len_PARTY_NAME_C'] > 8) & (df_6['Len_PARTY_NAME_C'] <= 10)) & (df_6['D-L_rank_Eng'] <= 4)]"
   ]
  },
  {
   "cell_type": "code",
   "execution_count": 55,
   "metadata": {},
   "outputs": [],
   "source": [
    "df_8 = df_6[~df_6.index.isin(df_7.index)]"
   ]
  },
  {
   "cell_type": "code",
   "execution_count": 56,
   "metadata": {},
   "outputs": [
    {
     "data": {
      "text/plain": [
       "61508"
      ]
     },
     "execution_count": 56,
     "metadata": {},
     "output_type": "execute_result"
    }
   ],
   "source": [
    "len(df_8)"
   ]
  },
  {
   "cell_type": "code",
   "execution_count": 57,
   "metadata": {},
   "outputs": [
    {
     "data": {
      "text/plain": [
       "2896"
      ]
     },
     "execution_count": 57,
     "metadata": {},
     "output_type": "execute_result"
    }
   ],
   "source": [
    "len(df_8[((df_8['Len_PARTY_NAME_C'] > 10) & (df_8['Len_PARTY_NAME_C'] <= 15)) & (df_8['D-L_rank_Eng'] <= 5)])"
   ]
  },
  {
   "cell_type": "code",
   "execution_count": 58,
   "metadata": {},
   "outputs": [],
   "source": [
    "df_9 = df_8[((df_8['Len_PARTY_NAME_C'] > 10) & (df_8['Len_PARTY_NAME_C'] <= 15)) & (df_8['D-L_rank_Eng'] <= 5)]"
   ]
  },
  {
   "cell_type": "code",
   "execution_count": 59,
   "metadata": {},
   "outputs": [],
   "source": [
    "df_10 = df_8[~df_8.index.isin(df_9.index)]"
   ]
  },
  {
   "cell_type": "code",
   "execution_count": 60,
   "metadata": {},
   "outputs": [
    {
     "data": {
      "text/plain": [
       "58612"
      ]
     },
     "execution_count": 60,
     "metadata": {},
     "output_type": "execute_result"
    }
   ],
   "source": [
    "len(df_10)"
   ]
  },
  {
   "cell_type": "code",
   "execution_count": 61,
   "metadata": {},
   "outputs": [
    {
     "data": {
      "text/plain": [
       "1247"
      ]
     },
     "execution_count": 61,
     "metadata": {},
     "output_type": "execute_result"
    }
   ],
   "source": [
    "len(df_10[((df_10['Len_PARTY_NAME_C'] > 15) & (df_10['Len_PARTY_NAME_C'] <= 20)) & (df_10['D-L_rank_Eng'] <= 7)])"
   ]
  },
  {
   "cell_type": "code",
   "execution_count": 62,
   "metadata": {},
   "outputs": [],
   "source": [
    "df_11 = df_10[((df_10['Len_PARTY_NAME_C'] > 15) & (df_10['Len_PARTY_NAME_C'] <= 20)) & (df_10['D-L_rank_Eng'] <= 7)]"
   ]
  },
  {
   "cell_type": "code",
   "execution_count": 63,
   "metadata": {},
   "outputs": [],
   "source": [
    "df_12 = df_10[~df_10.index.isin(df_11.index)]"
   ]
  },
  {
   "cell_type": "code",
   "execution_count": 64,
   "metadata": {},
   "outputs": [
    {
     "data": {
      "text/plain": [
       "57365"
      ]
     },
     "execution_count": 64,
     "metadata": {},
     "output_type": "execute_result"
    }
   ],
   "source": [
    "len(df_12)"
   ]
  },
  {
   "cell_type": "code",
   "execution_count": 65,
   "metadata": {},
   "outputs": [
    {
     "data": {
      "text/plain": [
       "1624"
      ]
     },
     "execution_count": 65,
     "metadata": {},
     "output_type": "execute_result"
    }
   ],
   "source": [
    "len(df_12[(df_12['Len_PARTY_NAME_C'] > 20) & (df_12['D-L_rank_Eng'] <= 10)])"
   ]
  },
  {
   "cell_type": "code",
   "execution_count": 66,
   "metadata": {},
   "outputs": [],
   "source": [
    "df_13 = df_12[(df_12['Len_PARTY_NAME_C'] > 20) & (df_12['D-L_rank_Eng'] <= 10)]"
   ]
  },
  {
   "cell_type": "code",
   "execution_count": 69,
   "metadata": {},
   "outputs": [],
   "source": [
    "df_14 = df_12[~df_12.index.isin(df_13.index)]"
   ]
  },
  {
   "cell_type": "code",
   "execution_count": 70,
   "metadata": {},
   "outputs": [
    {
     "data": {
      "text/plain": [
       "55741"
      ]
     },
     "execution_count": 70,
     "metadata": {},
     "output_type": "execute_result"
    }
   ],
   "source": [
    "len(df_14)"
   ]
  },
  {
   "cell_type": "code",
   "execution_count": 71,
   "metadata": {},
   "outputs": [],
   "source": [
    "df_5 = df_14"
   ]
  },
  {
   "cell_type": "code",
   "execution_count": 72,
   "metadata": {},
   "outputs": [
    {
     "data": {
      "text/plain": [
       "55741"
      ]
     },
     "execution_count": 72,
     "metadata": {},
     "output_type": "execute_result"
    }
   ],
   "source": [
    "len(df_5)"
   ]
  },
  {
   "cell_type": "code",
   "execution_count": 73,
   "metadata": {},
   "outputs": [],
   "source": [
    "df_5.to_excel(os.path.join(PATH, 'df_5_backup.xlsx'))"
   ]
  },
  {
   "cell_type": "code",
   "execution_count": null,
   "metadata": {},
   "outputs": [],
   "source": []
  },
  {
   "cell_type": "markdown",
   "metadata": {},
   "source": [
    "### Validation Phase 5"
   ]
  },
  {
   "cell_type": "code",
   "execution_count": 74,
   "metadata": {},
   "outputs": [
    {
     "data": {
      "text/html": [
       "<div>\n",
       "<style scoped>\n",
       "    .dataframe tbody tr th:only-of-type {\n",
       "        vertical-align: middle;\n",
       "    }\n",
       "\n",
       "    .dataframe tbody tr th {\n",
       "        vertical-align: top;\n",
       "    }\n",
       "\n",
       "    .dataframe thead th {\n",
       "        text-align: right;\n",
       "    }\n",
       "</style>\n",
       "<table border=\"1\" class=\"dataframe\">\n",
       "  <thead>\n",
       "    <tr style=\"text-align: right;\">\n",
       "      <th></th>\n",
       "      <th>RU_TAX_NUMBER</th>\n",
       "      <th>PARTY_NAME</th>\n",
       "      <th>PARTY_NAME_C</th>\n",
       "      <th>Eng_Name_SPARK_C</th>\n",
       "      <th>Short_RU_SPARK_C</th>\n",
       "      <th>Full_RU_SPARK_C</th>\n",
       "      <th>D-L_rank_Eng</th>\n",
       "      <th>Full_RU_SPARK_tran</th>\n",
       "      <th>Len_PARTY_NAME_C</th>\n",
       "    </tr>\n",
       "  </thead>\n",
       "  <tbody>\n",
       "    <tr>\n",
       "      <th>0</th>\n",
       "      <td>5407219194</td>\n",
       "      <td>PLANT METER</td>\n",
       "      <td>PLANT METER</td>\n",
       "      <td>PLANETA AN</td>\n",
       "      <td>АН ПЛАНЕТА</td>\n",
       "      <td>АГЕНТСТВО НЕДВИЖИМОСТИ ПЛАНЕТА</td>\n",
       "      <td>25</td>\n",
       "      <td>AGENTSTVO NEDVIZHIMOSTI PLANETA</td>\n",
       "      <td>11</td>\n",
       "    </tr>\n",
       "    <tr>\n",
       "      <th>1</th>\n",
       "      <td>7724859897</td>\n",
       "      <td>KRAFTBAU GROUP</td>\n",
       "      <td>KRAFTBAU</td>\n",
       "      <td>KRAFTBAU INVEST</td>\n",
       "      <td>КРАФТБАУ ИНВЕСТ</td>\n",
       "      <td>КРАФТБАУ ИНВЕСТ</td>\n",
       "      <td>7</td>\n",
       "      <td>KRAFTBAU INVEST</td>\n",
       "      <td>8</td>\n",
       "    </tr>\n",
       "    <tr>\n",
       "      <th>2</th>\n",
       "      <td>7722747404</td>\n",
       "      <td>ROYAL BANK OF SCOTLAND GROUP PLC</td>\n",
       "      <td>ROYAL SCOTLAND PLC</td>\n",
       "      <td>RBS-GRUPP</td>\n",
       "      <td>РБС-ГРУПП</td>\n",
       "      <td>РБС-ГРУПП</td>\n",
       "      <td>15</td>\n",
       "      <td>RBS-GRUPP</td>\n",
       "      <td>18</td>\n",
       "    </tr>\n",
       "    <tr>\n",
       "      <th>3</th>\n",
       "      <td>7714700709</td>\n",
       "      <td>INCHCAPE</td>\n",
       "      <td>INCHCAPE</td>\n",
       "      <td>INCHKEIP</td>\n",
       "      <td>ИНЧКЕЙП</td>\n",
       "      <td>ИНЧКЕЙП</td>\n",
       "      <td>4</td>\n",
       "      <td>INCHKEJP</td>\n",
       "      <td>8</td>\n",
       "    </tr>\n",
       "    <tr>\n",
       "      <th>4</th>\n",
       "      <td>5405305063</td>\n",
       "      <td>INFOTRACK</td>\n",
       "      <td>INFOTRACK</td>\n",
       "      <td>GALAKT-INFO AF</td>\n",
       "      <td>АФ ГАЛАКТ-ИНФО</td>\n",
       "      <td>АУДИТОРСКАЯ ГАЛАКТ-ИНФО</td>\n",
       "      <td>20</td>\n",
       "      <td>AUDITORSKAJA GALAKT-INFO</td>\n",
       "      <td>9</td>\n",
       "    </tr>\n",
       "  </tbody>\n",
       "</table>\n",
       "</div>"
      ],
      "text/plain": [
       "   RU_TAX_NUMBER                        PARTY_NAME        PARTY_NAME_C  \\\n",
       "0     5407219194                       PLANT METER         PLANT METER   \n",
       "1     7724859897                    KRAFTBAU GROUP            KRAFTBAU   \n",
       "2     7722747404  ROYAL BANK OF SCOTLAND GROUP PLC  ROYAL SCOTLAND PLC   \n",
       "3     7714700709                          INCHCAPE            INCHCAPE   \n",
       "4     5405305063                         INFOTRACK           INFOTRACK   \n",
       "\n",
       "  Eng_Name_SPARK_C Short_RU_SPARK_C                 Full_RU_SPARK_C  \\\n",
       "0       PLANETA AN       АН ПЛАНЕТА  АГЕНТСТВО НЕДВИЖИМОСТИ ПЛАНЕТА   \n",
       "1  KRAFTBAU INVEST  КРАФТБАУ ИНВЕСТ                 КРАФТБАУ ИНВЕСТ   \n",
       "2        RBS-GRUPP        РБС-ГРУПП                       РБС-ГРУПП   \n",
       "3         INCHKEIP          ИНЧКЕЙП                         ИНЧКЕЙП   \n",
       "4   GALAKT-INFO AF   АФ ГАЛАКТ-ИНФО         АУДИТОРСКАЯ ГАЛАКТ-ИНФО   \n",
       "\n",
       "   D-L_rank_Eng               Full_RU_SPARK_tran  Len_PARTY_NAME_C  \n",
       "0            25  AGENTSTVO NEDVIZHIMOSTI PLANETA                11  \n",
       "1             7                  KRAFTBAU INVEST                 8  \n",
       "2            15                        RBS-GRUPP                18  \n",
       "3             4                         INCHKEJP                 8  \n",
       "4            20         AUDITORSKAJA GALAKT-INFO                 9  "
      ]
     },
     "execution_count": 74,
     "metadata": {},
     "output_type": "execute_result"
    }
   ],
   "source": [
    "df_5.head()"
   ]
  },
  {
   "cell_type": "code",
   "execution_count": 80,
   "metadata": {},
   "outputs": [
    {
     "name": "stderr",
     "output_type": "stream",
     "text": [
      "C:\\Users\\vpoletae\\AppData\\Local\\Continuum\\anaconda3\\lib\\site-packages\\pandas\\core\\frame.py:3697: SettingWithCopyWarning: \n",
      "A value is trying to be set on a copy of a slice from a DataFrame\n",
      "\n",
      "See the caveats in the documentation: http://pandas.pydata.org/pandas-docs/stable/indexing.html#indexing-view-versus-copy\n",
      "  errors=errors)\n"
     ]
    }
   ],
   "source": [
    "df_5.drop(columns=['Short_RU_SPARK_C','Full_RU_SPARK_C', 'D-L_rank_Eng', 'Len_PARTY_NAME_C'], inplace=True)"
   ]
  },
  {
   "cell_type": "code",
   "execution_count": 81,
   "metadata": {},
   "outputs": [
    {
     "data": {
      "text/html": [
       "<div>\n",
       "<style scoped>\n",
       "    .dataframe tbody tr th:only-of-type {\n",
       "        vertical-align: middle;\n",
       "    }\n",
       "\n",
       "    .dataframe tbody tr th {\n",
       "        vertical-align: top;\n",
       "    }\n",
       "\n",
       "    .dataframe thead th {\n",
       "        text-align: right;\n",
       "    }\n",
       "</style>\n",
       "<table border=\"1\" class=\"dataframe\">\n",
       "  <thead>\n",
       "    <tr style=\"text-align: right;\">\n",
       "      <th></th>\n",
       "      <th>RU_TAX_NUMBER</th>\n",
       "      <th>PARTY_NAME</th>\n",
       "      <th>PARTY_NAME_C</th>\n",
       "      <th>Eng_Name_SPARK_C</th>\n",
       "      <th>Full_RU_SPARK_tran</th>\n",
       "    </tr>\n",
       "  </thead>\n",
       "  <tbody>\n",
       "    <tr>\n",
       "      <th>0</th>\n",
       "      <td>5407219194</td>\n",
       "      <td>PLANT METER</td>\n",
       "      <td>PLANT METER</td>\n",
       "      <td>PLANETA AN</td>\n",
       "      <td>AGENTSTVO NEDVIZHIMOSTI PLANETA</td>\n",
       "    </tr>\n",
       "    <tr>\n",
       "      <th>1</th>\n",
       "      <td>7724859897</td>\n",
       "      <td>KRAFTBAU GROUP</td>\n",
       "      <td>KRAFTBAU</td>\n",
       "      <td>KRAFTBAU INVEST</td>\n",
       "      <td>KRAFTBAU INVEST</td>\n",
       "    </tr>\n",
       "    <tr>\n",
       "      <th>2</th>\n",
       "      <td>7722747404</td>\n",
       "      <td>ROYAL BANK OF SCOTLAND GROUP PLC</td>\n",
       "      <td>ROYAL SCOTLAND PLC</td>\n",
       "      <td>RBS-GRUPP</td>\n",
       "      <td>RBS-GRUPP</td>\n",
       "    </tr>\n",
       "    <tr>\n",
       "      <th>3</th>\n",
       "      <td>7714700709</td>\n",
       "      <td>INCHCAPE</td>\n",
       "      <td>INCHCAPE</td>\n",
       "      <td>INCHKEIP</td>\n",
       "      <td>INCHKEJP</td>\n",
       "    </tr>\n",
       "    <tr>\n",
       "      <th>4</th>\n",
       "      <td>5405305063</td>\n",
       "      <td>INFOTRACK</td>\n",
       "      <td>INFOTRACK</td>\n",
       "      <td>GALAKT-INFO AF</td>\n",
       "      <td>AUDITORSKAJA GALAKT-INFO</td>\n",
       "    </tr>\n",
       "  </tbody>\n",
       "</table>\n",
       "</div>"
      ],
      "text/plain": [
       "   RU_TAX_NUMBER                        PARTY_NAME        PARTY_NAME_C  \\\n",
       "0     5407219194                       PLANT METER         PLANT METER   \n",
       "1     7724859897                    KRAFTBAU GROUP            KRAFTBAU   \n",
       "2     7722747404  ROYAL BANK OF SCOTLAND GROUP PLC  ROYAL SCOTLAND PLC   \n",
       "3     7714700709                          INCHCAPE            INCHCAPE   \n",
       "4     5405305063                         INFOTRACK           INFOTRACK   \n",
       "\n",
       "  Eng_Name_SPARK_C               Full_RU_SPARK_tran  \n",
       "0       PLANETA AN  AGENTSTVO NEDVIZHIMOSTI PLANETA  \n",
       "1  KRAFTBAU INVEST                  KRAFTBAU INVEST  \n",
       "2        RBS-GRUPP                        RBS-GRUPP  \n",
       "3         INCHKEIP                         INCHKEJP  \n",
       "4   GALAKT-INFO AF         AUDITORSKAJA GALAKT-INFO  "
      ]
     },
     "execution_count": 81,
     "metadata": {},
     "output_type": "execute_result"
    }
   ],
   "source": [
    "df_5.head()"
   ]
  },
  {
   "cell_type": "code",
   "execution_count": 121,
   "metadata": {},
   "outputs": [
    {
     "name": "stderr",
     "output_type": "stream",
     "text": [
      "C:\\Users\\vpoletae\\AppData\\Local\\Continuum\\anaconda3\\lib\\site-packages\\ipykernel_launcher.py:3: SettingWithCopyWarning: \n",
      "A value is trying to be set on a copy of a slice from a DataFrame.\n",
      "Try using .loc[row_indexer,col_indexer] = value instead\n",
      "\n",
      "See the caveats in the documentation: http://pandas.pydata.org/pandas-docs/stable/indexing.html#indexing-view-versus-copy\n",
      "  This is separate from the ipykernel package so we can avoid doing imports until\n"
     ]
    }
   ],
   "source": [
    "df_5['Zhakkar_Party|Eng'] = df_5.apply(\n",
    "    lambda x: zhakkar_ratio(\n",
    "        x, col_previous='PARTY_NAME_C', col_shifted='Eng_Name_SPARK_C'), axis=1)"
   ]
  },
  {
   "cell_type": "code",
   "execution_count": 122,
   "metadata": {},
   "outputs": [
    {
     "data": {
      "text/html": [
       "<div>\n",
       "<style scoped>\n",
       "    .dataframe tbody tr th:only-of-type {\n",
       "        vertical-align: middle;\n",
       "    }\n",
       "\n",
       "    .dataframe tbody tr th {\n",
       "        vertical-align: top;\n",
       "    }\n",
       "\n",
       "    .dataframe thead th {\n",
       "        text-align: right;\n",
       "    }\n",
       "</style>\n",
       "<table border=\"1\" class=\"dataframe\">\n",
       "  <thead>\n",
       "    <tr style=\"text-align: right;\">\n",
       "      <th></th>\n",
       "      <th>RU_TAX_NUMBER</th>\n",
       "      <th>PARTY_NAME</th>\n",
       "      <th>PARTY_NAME_C</th>\n",
       "      <th>Eng_Name_SPARK_C</th>\n",
       "      <th>Full_RU_SPARK_tran</th>\n",
       "      <th>Zhakkar_Party|Eng</th>\n",
       "    </tr>\n",
       "  </thead>\n",
       "  <tbody>\n",
       "    <tr>\n",
       "      <th>0</th>\n",
       "      <td>5407219194</td>\n",
       "      <td>PLANT METER</td>\n",
       "      <td>PLANT METER</td>\n",
       "      <td>PLANETA AN</td>\n",
       "      <td>AGENTSTVO NEDVIZHIMOSTI PLANETA</td>\n",
       "      <td>46</td>\n",
       "    </tr>\n",
       "    <tr>\n",
       "      <th>1</th>\n",
       "      <td>7724859897</td>\n",
       "      <td>KRAFTBAU GROUP</td>\n",
       "      <td>KRAFTBAU</td>\n",
       "      <td>KRAFTBAU INVEST</td>\n",
       "      <td>KRAFTBAU INVEST</td>\n",
       "      <td>57</td>\n",
       "    </tr>\n",
       "    <tr>\n",
       "      <th>2</th>\n",
       "      <td>7722747404</td>\n",
       "      <td>ROYAL BANK OF SCOTLAND GROUP PLC</td>\n",
       "      <td>ROYAL SCOTLAND PLC</td>\n",
       "      <td>RBS-GRUPP</td>\n",
       "      <td>RBS-GRUPP</td>\n",
       "      <td>13</td>\n",
       "    </tr>\n",
       "    <tr>\n",
       "      <th>3</th>\n",
       "      <td>7714700709</td>\n",
       "      <td>INCHCAPE</td>\n",
       "      <td>INCHCAPE</td>\n",
       "      <td>INCHKEIP</td>\n",
       "      <td>INCHKEJP</td>\n",
       "      <td>60</td>\n",
       "    </tr>\n",
       "    <tr>\n",
       "      <th>4</th>\n",
       "      <td>5405305063</td>\n",
       "      <td>INFOTRACK</td>\n",
       "      <td>INFOTRACK</td>\n",
       "      <td>GALAKT-INFO AF</td>\n",
       "      <td>AUDITORSKAJA GALAKT-INFO</td>\n",
       "      <td>46</td>\n",
       "    </tr>\n",
       "  </tbody>\n",
       "</table>\n",
       "</div>"
      ],
      "text/plain": [
       "   RU_TAX_NUMBER                        PARTY_NAME        PARTY_NAME_C  \\\n",
       "0     5407219194                       PLANT METER         PLANT METER   \n",
       "1     7724859897                    KRAFTBAU GROUP            KRAFTBAU   \n",
       "2     7722747404  ROYAL BANK OF SCOTLAND GROUP PLC  ROYAL SCOTLAND PLC   \n",
       "3     7714700709                          INCHCAPE            INCHCAPE   \n",
       "4     5405305063                         INFOTRACK           INFOTRACK   \n",
       "\n",
       "  Eng_Name_SPARK_C               Full_RU_SPARK_tran  Zhakkar_Party|Eng  \n",
       "0       PLANETA AN  AGENTSTVO NEDVIZHIMOSTI PLANETA                 46  \n",
       "1  KRAFTBAU INVEST                  KRAFTBAU INVEST                 57  \n",
       "2        RBS-GRUPP                        RBS-GRUPP                 13  \n",
       "3         INCHKEIP                         INCHKEJP                 60  \n",
       "4   GALAKT-INFO AF         AUDITORSKAJA GALAKT-INFO                 46  "
      ]
     },
     "execution_count": 122,
     "metadata": {},
     "output_type": "execute_result"
    }
   ],
   "source": [
    "df_5.head(5)"
   ]
  },
  {
   "cell_type": "code",
   "execution_count": 127,
   "metadata": {},
   "outputs": [
    {
     "data": {
      "text/plain": [
       "9834"
      ]
     },
     "execution_count": 127,
     "metadata": {},
     "output_type": "execute_result"
    }
   ],
   "source": [
    "len(df_5[df_5['Zhakkar_Party|Eng'] >= 55])"
   ]
  },
  {
   "cell_type": "code",
   "execution_count": 150,
   "metadata": {},
   "outputs": [],
   "source": [
    "df_6 = df_5[df_5['Zhakkar_Party|Eng'] < 55]"
   ]
  },
  {
   "cell_type": "code",
   "execution_count": 151,
   "metadata": {},
   "outputs": [
    {
     "data": {
      "text/plain": [
       "45907"
      ]
     },
     "execution_count": 151,
     "metadata": {},
     "output_type": "execute_result"
    }
   ],
   "source": [
    "len(df_6)"
   ]
  },
  {
   "cell_type": "code",
   "execution_count": 131,
   "metadata": {},
   "outputs": [],
   "source": [
    "df_6.to_excel(os.path.join(PATH, 'df_6_backup.xlsx'))"
   ]
  },
  {
   "cell_type": "code",
   "execution_count": null,
   "metadata": {},
   "outputs": [],
   "source": []
  },
  {
   "cell_type": "markdown",
   "metadata": {},
   "source": [
    "### Validation Phase 6"
   ]
  },
  {
   "cell_type": "code",
   "execution_count": 152,
   "metadata": {},
   "outputs": [
    {
     "data": {
      "text/plain": [
       "13940"
      ]
     },
     "execution_count": 152,
     "metadata": {},
     "output_type": "execute_result"
    }
   ],
   "source": [
    "len(df_6[df_6['Zhakkar_Party|Eng'] <= 20])"
   ]
  },
  {
   "cell_type": "code",
   "execution_count": 153,
   "metadata": {},
   "outputs": [],
   "source": [
    "high_risk_incorrect = df_6[df_6['Zhakkar_Party|Eng'] <= 20]"
   ]
  },
  {
   "cell_type": "code",
   "execution_count": 154,
   "metadata": {},
   "outputs": [
    {
     "data": {
      "text/plain": [
       "13940"
      ]
     },
     "execution_count": 154,
     "metadata": {},
     "output_type": "execute_result"
    }
   ],
   "source": [
    "len(high_risk_incorrect)"
   ]
  },
  {
   "cell_type": "code",
   "execution_count": 155,
   "metadata": {},
   "outputs": [],
   "source": [
    "high_risk_incorrect.to_excel(os.path.join(PATH, 'high_risk_incorrect.xlsx'))"
   ]
  },
  {
   "cell_type": "code",
   "execution_count": 156,
   "metadata": {},
   "outputs": [],
   "source": [
    "df_7 = df_6[df_6['Zhakkar_Party|Eng'] > 20]"
   ]
  },
  {
   "cell_type": "code",
   "execution_count": 157,
   "metadata": {},
   "outputs": [
    {
     "data": {
      "text/plain": [
       "31967"
      ]
     },
     "execution_count": 157,
     "metadata": {},
     "output_type": "execute_result"
    }
   ],
   "source": [
    "len(df_7)"
   ]
  },
  {
   "cell_type": "code",
   "execution_count": 158,
   "metadata": {},
   "outputs": [],
   "source": [
    "df_7.to_excel(os.path.join(PATH, 'df_7_backup.xlsx'))"
   ]
  },
  {
   "cell_type": "code",
   "execution_count": null,
   "metadata": {},
   "outputs": [],
   "source": []
  },
  {
   "cell_type": "markdown",
   "metadata": {},
   "source": [
    "### Validation Phase 7"
   ]
  },
  {
   "cell_type": "code",
   "execution_count": 159,
   "metadata": {},
   "outputs": [
    {
     "name": "stderr",
     "output_type": "stream",
     "text": [
      "C:\\Users\\vpoletae\\AppData\\Local\\Continuum\\anaconda3\\lib\\site-packages\\pandas\\core\\frame.py:3697: SettingWithCopyWarning: \n",
      "A value is trying to be set on a copy of a slice from a DataFrame\n",
      "\n",
      "See the caveats in the documentation: http://pandas.pydata.org/pandas-docs/stable/indexing.html#indexing-view-versus-copy\n",
      "  errors=errors)\n"
     ]
    }
   ],
   "source": [
    "df_7.drop(columns=['Zhakkar_Party|Eng'], inplace=True)"
   ]
  },
  {
   "cell_type": "code",
   "execution_count": 162,
   "metadata": {},
   "outputs": [
    {
     "name": "stderr",
     "output_type": "stream",
     "text": [
      "C:\\Users\\vpoletae\\AppData\\Local\\Continuum\\anaconda3\\lib\\site-packages\\ipykernel_launcher.py:3: SettingWithCopyWarning: \n",
      "A value is trying to be set on a copy of a slice from a DataFrame.\n",
      "Try using .loc[row_indexer,col_indexer] = value instead\n",
      "\n",
      "See the caveats in the documentation: http://pandas.pydata.org/pandas-docs/stable/indexing.html#indexing-view-versus-copy\n",
      "  This is separate from the ipykernel package so we can avoid doing imports until\n"
     ]
    }
   ],
   "source": [
    "df_7['Zhakkar_Party|Full'] = df_7.apply(\n",
    "    lambda x: zhakkar_ratio(\n",
    "        x, col_previous='PARTY_NAME_C', col_shifted='Full_RU_SPARK_tran'), axis=1)"
   ]
  },
  {
   "cell_type": "code",
   "execution_count": 164,
   "metadata": {
    "collapsed": true
   },
   "outputs": [
    {
     "name": "stderr",
     "output_type": "stream",
     "text": [
      "C:\\Users\\vpoletae\\AppData\\Local\\Continuum\\anaconda3\\lib\\site-packages\\pandas\\core\\frame.py:3697: SettingWithCopyWarning: \n",
      "A value is trying to be set on a copy of a slice from a DataFrame\n",
      "\n",
      "See the caveats in the documentation: http://pandas.pydata.org/pandas-docs/stable/indexing.html#indexing-view-versus-copy\n",
      "  errors=errors)\n"
     ]
    },
    {
     "data": {
      "text/html": [
       "<div>\n",
       "<style scoped>\n",
       "    .dataframe tbody tr th:only-of-type {\n",
       "        vertical-align: middle;\n",
       "    }\n",
       "\n",
       "    .dataframe tbody tr th {\n",
       "        vertical-align: top;\n",
       "    }\n",
       "\n",
       "    .dataframe thead th {\n",
       "        text-align: right;\n",
       "    }\n",
       "</style>\n",
       "<table border=\"1\" class=\"dataframe\">\n",
       "  <thead>\n",
       "    <tr style=\"text-align: right;\">\n",
       "      <th></th>\n",
       "      <th>RU_TAX_NUMBER</th>\n",
       "      <th>PARTY_NAME</th>\n",
       "      <th>PARTY_NAME_C</th>\n",
       "      <th>Eng_Name_SPARK_C</th>\n",
       "      <th>Full_RU_SPARK_tran</th>\n",
       "      <th>Zhakkar_Party|Full</th>\n",
       "    </tr>\n",
       "  </thead>\n",
       "  <tbody>\n",
       "    <tr>\n",
       "      <th>0</th>\n",
       "      <td>5407219194</td>\n",
       "      <td>PLANT METER</td>\n",
       "      <td>PLANT METER</td>\n",
       "      <td>PLANETA AN</td>\n",
       "      <td>AGENTSTVO NEDVIZHIMOSTI PLANETA</td>\n",
       "      <td>30</td>\n",
       "    </tr>\n",
       "    <tr>\n",
       "      <th>4</th>\n",
       "      <td>5405305063</td>\n",
       "      <td>INFOTRACK</td>\n",
       "      <td>INFOTRACK</td>\n",
       "      <td>GALAKT-INFO AF</td>\n",
       "      <td>AUDITORSKAJA GALAKT-INFO</td>\n",
       "      <td>33</td>\n",
       "    </tr>\n",
       "    <tr>\n",
       "      <th>6</th>\n",
       "      <td>7709430077</td>\n",
       "      <td>ADMINISTRATION</td>\n",
       "      <td>ADMINISTRATION</td>\n",
       "      <td>ADM</td>\n",
       "      <td>AKADEMIJA DETSKOGO MJUZIKLA</td>\n",
       "      <td>30</td>\n",
       "    </tr>\n",
       "    <tr>\n",
       "      <th>7</th>\n",
       "      <td>7713605227</td>\n",
       "      <td>LUXOFT</td>\n",
       "      <td>LUXOFT</td>\n",
       "      <td>LYUKSOFT PROFESHNL</td>\n",
       "      <td>LJUKSOFT PROFESHNL</td>\n",
       "      <td>27</td>\n",
       "    </tr>\n",
       "    <tr>\n",
       "      <th>10</th>\n",
       "      <td>278005403</td>\n",
       "      <td>NEFTEAVTOMATIKA PUBLIC JOINT-STOCK COMPANY</td>\n",
       "      <td>NEFTEAVTOMATIKA PUBLIC JOINT-STOCK</td>\n",
       "      <td>NEFTEAVTOMATIKA</td>\n",
       "      <td>NEFTEAVTOMATIKA</td>\n",
       "      <td>46</td>\n",
       "    </tr>\n",
       "  </tbody>\n",
       "</table>\n",
       "</div>"
      ],
      "text/plain": [
       "    RU_TAX_NUMBER                                  PARTY_NAME  \\\n",
       "0      5407219194                                 PLANT METER   \n",
       "4      5405305063                                   INFOTRACK   \n",
       "6      7709430077                              ADMINISTRATION   \n",
       "7      7713605227                                      LUXOFT   \n",
       "10      278005403  NEFTEAVTOMATIKA PUBLIC JOINT-STOCK COMPANY   \n",
       "\n",
       "                          PARTY_NAME_C    Eng_Name_SPARK_C  \\\n",
       "0                          PLANT METER          PLANETA AN   \n",
       "4                            INFOTRACK      GALAKT-INFO AF   \n",
       "6                       ADMINISTRATION                 ADM   \n",
       "7                               LUXOFT  LYUKSOFT PROFESHNL   \n",
       "10  NEFTEAVTOMATIKA PUBLIC JOINT-STOCK     NEFTEAVTOMATIKA   \n",
       "\n",
       "                 Full_RU_SPARK_tran  Zhakkar_Party|Full  \n",
       "0   AGENTSTVO NEDVIZHIMOSTI PLANETA                  30  \n",
       "4          AUDITORSKAJA GALAKT-INFO                  33  \n",
       "6       AKADEMIJA DETSKOGO MJUZIKLA                  30  \n",
       "7                LJUKSOFT PROFESHNL                  27  \n",
       "10                  NEFTEAVTOMATIKA                  46  "
      ]
     },
     "execution_count": 164,
     "metadata": {},
     "output_type": "execute_result"
    }
   ],
   "source": [
    "df_7.drop(columns=['Zhakkar_Party|Eng'], inplace=True)"
   ]
  },
  {
   "cell_type": "code",
   "execution_count": 166,
   "metadata": {},
   "outputs": [
    {
     "data": {
      "text/plain": [
       "1065"
      ]
     },
     "execution_count": 166,
     "metadata": {},
     "output_type": "execute_result"
    }
   ],
   "source": [
    "len(df_7[df_7['Zhakkar_Party|Full'] >= 55])"
   ]
  },
  {
   "cell_type": "code",
   "execution_count": 168,
   "metadata": {},
   "outputs": [],
   "source": [
    "df_8 = df_7[df_7['Zhakkar_Party|Full'] < 55]"
   ]
  },
  {
   "cell_type": "code",
   "execution_count": 169,
   "metadata": {},
   "outputs": [
    {
     "data": {
      "text/plain": [
       "3079"
      ]
     },
     "execution_count": 169,
     "metadata": {},
     "output_type": "execute_result"
    }
   ],
   "source": [
    "len(df_8[df_8['Zhakkar_Party|Full'] <= 20])"
   ]
  },
  {
   "cell_type": "code",
   "execution_count": 170,
   "metadata": {},
   "outputs": [],
   "source": [
    "high_risk_incorrect_2 = df_8[df_8['Zhakkar_Party|Full'] <= 20]"
   ]
  },
  {
   "cell_type": "code",
   "execution_count": 171,
   "metadata": {},
   "outputs": [],
   "source": [
    "high_risk_incorrect_2.to_excel(os.path.join(PATH, 'high_risk_incorrect_2.xlsx'))"
   ]
  },
  {
   "cell_type": "code",
   "execution_count": 172,
   "metadata": {},
   "outputs": [],
   "source": [
    "df_8 = df_8[df_8['Zhakkar_Party|Full'] > 20]"
   ]
  },
  {
   "cell_type": "code",
   "execution_count": 173,
   "metadata": {},
   "outputs": [
    {
     "data": {
      "text/plain": [
       "27823"
      ]
     },
     "execution_count": 173,
     "metadata": {},
     "output_type": "execute_result"
    }
   ],
   "source": [
    "len(df_8)"
   ]
  },
  {
   "cell_type": "code",
   "execution_count": 174,
   "metadata": {},
   "outputs": [],
   "source": [
    "df_8.to_excel(os.path.join(PATH, 'df_8_backup.xlsx'))"
   ]
  },
  {
   "cell_type": "code",
   "execution_count": null,
   "metadata": {},
   "outputs": [],
   "source": []
  },
  {
   "cell_type": "markdown",
   "metadata": {},
   "source": [
    "### Validation Phase 8"
   ]
  },
  {
   "cell_type": "code",
   "execution_count": 176,
   "metadata": {},
   "outputs": [],
   "source": [
    "df_8['D-L_Party|Full'] = df_8.apply(\n",
    "    lambda x: damerau_levenstein(\n",
    "        x, col_previous='PARTY_NAME_C', col_shifted='Full_RU_SPARK_tran'), axis=1)"
   ]
  },
  {
   "cell_type": "code",
   "execution_count": 178,
   "metadata": {},
   "outputs": [],
   "source": [
    "df_8['Zhakkar_Party|Eng'] = df_8.apply(\n",
    "    lambda x: zhakkar_ratio(\n",
    "        x, col_previous='PARTY_NAME_C', col_shifted='Eng_Name_SPARK_C'), axis=1)"
   ]
  },
  {
   "cell_type": "code",
   "execution_count": 179,
   "metadata": {},
   "outputs": [],
   "source": [
    "df_8['D-L_Party|Eng'] = df_8.apply(\n",
    "    lambda x: damerau_levenstein(\n",
    "        x, col_previous='PARTY_NAME_C', col_shifted='Eng_Name_SPARK_C'), axis=1)"
   ]
  },
  {
   "cell_type": "code",
   "execution_count": 182,
   "metadata": {},
   "outputs": [],
   "source": [
    "df_8['Len_PARTY_NAME_C'] = df_8['PARTY_NAME_C'].apply(lambda x: len(str(x)))"
   ]
  },
  {
   "cell_type": "code",
   "execution_count": 185,
   "metadata": {},
   "outputs": [],
   "source": [
    "df_8['Q-ty_words_PARTY_NAME_C'] = df_8['PARTY_NAME_C'].apply(lambda x: len(x.split(' ')))"
   ]
  },
  {
   "cell_type": "code",
   "execution_count": 192,
   "metadata": {},
   "outputs": [],
   "source": [
    "df_8['Q-ty_words_Eng_C'] = df_8['Eng_Name_SPARK_C'].apply(lambda x: len(x.split(' ')))"
   ]
  },
  {
   "cell_type": "code",
   "execution_count": 193,
   "metadata": {},
   "outputs": [],
   "source": [
    "df_8['Q-ty_words_Full_C'] = df_8['Full_RU_SPARK_tran'].apply(lambda x: len(x.split(' ')))"
   ]
  },
  {
   "cell_type": "code",
   "execution_count": 195,
   "metadata": {},
   "outputs": [],
   "source": [
    "df_8.to_excel(os.path.join(PATH, 'df_8_backup_adj.xlsx'))"
   ]
  },
  {
   "cell_type": "code",
   "execution_count": null,
   "metadata": {},
   "outputs": [],
   "source": []
  },
  {
   "cell_type": "markdown",
   "metadata": {},
   "source": [
    "### Validatoin phase 9 - Selenium"
   ]
  },
  {
   "cell_type": "code",
   "execution_count": 67,
   "metadata": {},
   "outputs": [],
   "source": [
    "df_selenium = pd.read_excel('C:\\\\Vadim\\\\Cisco\\\\Projects\\\\Tax ID_v3\\\\parser\\scrapped\\\\1.xlsx')"
   ]
  },
  {
   "cell_type": "code",
   "execution_count": 68,
   "metadata": {},
   "outputs": [
    {
     "data": {
      "text/html": [
       "<div>\n",
       "<style scoped>\n",
       "    .dataframe tbody tr th:only-of-type {\n",
       "        vertical-align: middle;\n",
       "    }\n",
       "\n",
       "    .dataframe tbody tr th {\n",
       "        vertical-align: top;\n",
       "    }\n",
       "\n",
       "    .dataframe thead th {\n",
       "        text-align: right;\n",
       "    }\n",
       "</style>\n",
       "<table border=\"1\" class=\"dataframe\">\n",
       "  <thead>\n",
       "    <tr style=\"text-align: right;\">\n",
       "      <th></th>\n",
       "      <th>Company</th>\n",
       "      <th>Unnamed: 1</th>\n",
       "    </tr>\n",
       "  </thead>\n",
       "  <tbody>\n",
       "    <tr>\n",
       "      <th>0</th>\n",
       "      <td>KRAFTBAU GROUP</td>\n",
       "      <td>ООО \"КРАФТБАУ ГРУП\" (ИНН:7723628150)</td>\n",
       "    </tr>\n",
       "    <tr>\n",
       "      <th>1</th>\n",
       "      <td>ROYAL BANK OF SCOTLAND GROUP PLC</td>\n",
       "      <td>Королевский Банк Шотландии (ИНН 7703120329, ОГ...</td>\n",
       "    </tr>\n",
       "    <tr>\n",
       "      <th>2</th>\n",
       "      <td>PUBLIC JOINT-STOCK COMPANY LETO BANK</td>\n",
       "      <td>Реквизиты ПАО «Почта Банк» | ИНН: 3232005484</td>\n",
       "    </tr>\n",
       "    <tr>\n",
       "      <th>3</th>\n",
       "      <td>LUXOFT</td>\n",
       "      <td>ООО \"Люксофт Профешнл\", Москва (ИНН 7713605227...</td>\n",
       "    </tr>\n",
       "    <tr>\n",
       "      <th>4</th>\n",
       "      <td>NIC SPB ETU</td>\n",
       "      <td>АО \"НИЦ СПБ Эту\", Санкт-Петербург (ИНН 7813300...</td>\n",
       "    </tr>\n",
       "  </tbody>\n",
       "</table>\n",
       "</div>"
      ],
      "text/plain": [
       "                                Company  \\\n",
       "0                        KRAFTBAU GROUP   \n",
       "1      ROYAL BANK OF SCOTLAND GROUP PLC   \n",
       "2  PUBLIC JOINT-STOCK COMPANY LETO BANK   \n",
       "3                                LUXOFT   \n",
       "4                           NIC SPB ETU   \n",
       "\n",
       "                                          Unnamed: 1  \n",
       "0               ООО \"КРАФТБАУ ГРУП\" (ИНН:7723628150)  \n",
       "1  Королевский Банк Шотландии (ИНН 7703120329, ОГ...  \n",
       "2       Реквизиты ПАО «Почта Банк» | ИНН: 3232005484  \n",
       "3  ООО \"Люксофт Профешнл\", Москва (ИНН 7713605227...  \n",
       "4  АО \"НИЦ СПБ Эту\", Санкт-Петербург (ИНН 7813300...  "
      ]
     },
     "execution_count": 68,
     "metadata": {},
     "output_type": "execute_result"
    }
   ],
   "source": [
    "df_selenium.head(5)"
   ]
  },
  {
   "cell_type": "code",
   "execution_count": 69,
   "metadata": {},
   "outputs": [],
   "source": [
    "import re"
   ]
  },
  {
   "cell_type": "code",
   "execution_count": 70,
   "metadata": {},
   "outputs": [],
   "source": [
    "def extract_inn(x):\n",
    "    pattern = re.compile(r'(ИНН.+?)(\\d+)')\n",
    "    inn = int()\n",
    "    try:\n",
    "        inn = pattern.search(x)\n",
    "        inn = int(inn.group(2))\n",
    "    except (TypeError, AttributeError) as e:\n",
    "        pass\n",
    "    return inn"
   ]
  },
  {
   "cell_type": "code",
   "execution_count": 81,
   "metadata": {},
   "outputs": [],
   "source": [
    "def extract_name(x):\n",
    "    pattern = re.compile(r'(.+)(ИНН)')\n",
    "    name = str()\n",
    "    try:\n",
    "        name = pattern.search(x)\n",
    "        name = name.group(1)[:-2]\n",
    "    except (TypeError, AttributeError) as e:\n",
    "        pass\n",
    "    return name"
   ]
  },
  {
   "cell_type": "code",
   "execution_count": 71,
   "metadata": {},
   "outputs": [],
   "source": [
    "df_selenium['INN_parsed'] = df_selenium['Unnamed: 1'].apply(lambda x: extract_inn(x))"
   ]
  },
  {
   "cell_type": "code",
   "execution_count": 82,
   "metadata": {},
   "outputs": [],
   "source": [
    "df_selenium['Name'] = df_selenium['Unnamed: 1'].apply(lambda x: extract_name(x))"
   ]
  },
  {
   "cell_type": "code",
   "execution_count": 84,
   "metadata": {},
   "outputs": [],
   "source": [
    "df_selenium.drop(columns=['Unnamed: 1'], inplace=True)"
   ]
  },
  {
   "cell_type": "code",
   "execution_count": 85,
   "metadata": {},
   "outputs": [
    {
     "data": {
      "text/html": [
       "<div>\n",
       "<style scoped>\n",
       "    .dataframe tbody tr th:only-of-type {\n",
       "        vertical-align: middle;\n",
       "    }\n",
       "\n",
       "    .dataframe tbody tr th {\n",
       "        vertical-align: top;\n",
       "    }\n",
       "\n",
       "    .dataframe thead th {\n",
       "        text-align: right;\n",
       "    }\n",
       "</style>\n",
       "<table border=\"1\" class=\"dataframe\">\n",
       "  <thead>\n",
       "    <tr style=\"text-align: right;\">\n",
       "      <th></th>\n",
       "      <th>Company</th>\n",
       "      <th>INN_parsed</th>\n",
       "      <th>Name</th>\n",
       "    </tr>\n",
       "  </thead>\n",
       "  <tbody>\n",
       "    <tr>\n",
       "      <th>0</th>\n",
       "      <td>KRAFTBAU GROUP</td>\n",
       "      <td>7.723628e+09</td>\n",
       "      <td>ООО \"КРАФТБАУ ГРУП\"</td>\n",
       "    </tr>\n",
       "    <tr>\n",
       "      <th>1</th>\n",
       "      <td>ROYAL BANK OF SCOTLAND GROUP PLC</td>\n",
       "      <td>7.703120e+09</td>\n",
       "      <td>Королевский Банк Шотландии</td>\n",
       "    </tr>\n",
       "    <tr>\n",
       "      <th>2</th>\n",
       "      <td>PUBLIC JOINT-STOCK COMPANY LETO BANK</td>\n",
       "      <td>3.232005e+09</td>\n",
       "      <td>Реквизиты ПАО «Почта Банк»</td>\n",
       "    </tr>\n",
       "    <tr>\n",
       "      <th>3</th>\n",
       "      <td>LUXOFT</td>\n",
       "      <td>7.713605e+09</td>\n",
       "      <td>ООО \"Люксофт Профешнл\", Москва</td>\n",
       "    </tr>\n",
       "    <tr>\n",
       "      <th>4</th>\n",
       "      <td>NIC SPB ETU</td>\n",
       "      <td>7.813301e+09</td>\n",
       "      <td>АО \"НИЦ СПБ Эту\", Санкт-Петербург</td>\n",
       "    </tr>\n",
       "  </tbody>\n",
       "</table>\n",
       "</div>"
      ],
      "text/plain": [
       "                                Company    INN_parsed  \\\n",
       "0                        KRAFTBAU GROUP  7.723628e+09   \n",
       "1      ROYAL BANK OF SCOTLAND GROUP PLC  7.703120e+09   \n",
       "2  PUBLIC JOINT-STOCK COMPANY LETO BANK  3.232005e+09   \n",
       "3                                LUXOFT  7.713605e+09   \n",
       "4                           NIC SPB ETU  7.813301e+09   \n",
       "\n",
       "                                Name  \n",
       "0                ООО \"КРАФТБАУ ГРУП\"  \n",
       "1         Королевский Банк Шотландии  \n",
       "2        Реквизиты ПАО «Почта Банк»   \n",
       "3     ООО \"Люксофт Профешнл\", Москва  \n",
       "4  АО \"НИЦ СПБ Эту\", Санкт-Петербург  "
      ]
     },
     "execution_count": 85,
     "metadata": {},
     "output_type": "execute_result"
    }
   ],
   "source": [
    "df_selenium.head()"
   ]
  },
  {
   "cell_type": "code",
   "execution_count": 86,
   "metadata": {},
   "outputs": [],
   "source": [
    "df_selenium.to_excel(os.path.join(PATH, 'df_selenium.xlsx'))"
   ]
  },
  {
   "cell_type": "code",
   "execution_count": null,
   "metadata": {},
   "outputs": [],
   "source": []
  }
 ],
 "metadata": {
  "kernelspec": {
   "display_name": "Python 3",
   "language": "python",
   "name": "python3"
  },
  "language_info": {
   "codemirror_mode": {
    "name": "ipython",
    "version": 3
   },
   "file_extension": ".py",
   "mimetype": "text/x-python",
   "name": "python",
   "nbconvert_exporter": "python",
   "pygments_lexer": "ipython3",
   "version": "3.7.0"
  }
 },
 "nbformat": 4,
 "nbformat_minor": 2
}
